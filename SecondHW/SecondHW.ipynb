{
 "cells": [
  {
   "cell_type": "markdown",
   "metadata": {},
   "source": [
    "# Очистка данных"
   ]
  },
  {
   "cell_type": "code",
   "execution_count": 1,
   "metadata": {},
   "outputs": [],
   "source": [
    "import pandas as pd\n",
    "import numpy as np\n",
    "df = pd.read_csv('PRODUCT_LIST1.CSV',sep=\";\", header=0, index_col=\"Product_code\")"
   ]
  },
  {
   "cell_type": "code",
   "execution_count": 2,
   "metadata": {},
   "outputs": [
    {
     "data": {
      "text/html": [
       "<div>\n",
       "<style scoped>\n",
       "    .dataframe tbody tr th:only-of-type {\n",
       "        vertical-align: middle;\n",
       "    }\n",
       "\n",
       "    .dataframe tbody tr th {\n",
       "        vertical-align: top;\n",
       "    }\n",
       "\n",
       "    .dataframe thead th {\n",
       "        text-align: right;\n",
       "    }\n",
       "</style>\n",
       "<table border=\"1\" class=\"dataframe\">\n",
       "  <thead>\n",
       "    <tr style=\"text-align: right;\">\n",
       "      <th></th>\n",
       "      <th>Product_name</th>\n",
       "      <th>Unnamed: 2</th>\n",
       "      <th>Unnamed: 3</th>\n",
       "    </tr>\n",
       "    <tr>\n",
       "      <th>Product_code</th>\n",
       "      <th></th>\n",
       "      <th></th>\n",
       "      <th></th>\n",
       "    </tr>\n",
       "  </thead>\n",
       "  <tbody>\n",
       "    <tr>\n",
       "      <th>821001</th>\n",
       "      <td>Кофе ЭСПРЕССО  30 мл</td>\n",
       "      <td>NaN</td>\n",
       "      <td>NaN</td>\n",
       "    </tr>\n",
       "    <tr>\n",
       "      <th>821002</th>\n",
       "      <td>Кофе ДОППИО 60мл</td>\n",
       "      <td>NaN</td>\n",
       "      <td>NaN</td>\n",
       "    </tr>\n",
       "    <tr>\n",
       "      <th>821003</th>\n",
       "      <td>Кофе РИСТРЕТТО  20 мл</td>\n",
       "      <td>NaN</td>\n",
       "      <td>NaN</td>\n",
       "    </tr>\n",
       "    <tr>\n",
       "      <th>821004</th>\n",
       "      <td>Фильтр кофе Верньяно250мл</td>\n",
       "      <td>NaN</td>\n",
       "      <td>NaN</td>\n",
       "    </tr>\n",
       "    <tr>\n",
       "      <th>821005</th>\n",
       "      <td>Кофе ЛУНГО  50 мл</td>\n",
       "      <td>NaN</td>\n",
       "      <td>NaN</td>\n",
       "    </tr>\n",
       "  </tbody>\n",
       "</table>\n",
       "</div>"
      ],
      "text/plain": [
       "                           Product_name Unnamed: 2 Unnamed: 3\n",
       "Product_code                                                 \n",
       "821001             Кофе ЭСПРЕССО  30 мл        NaN        NaN\n",
       "821002                 Кофе ДОППИО 60мл        NaN        NaN\n",
       "821003            Кофе РИСТРЕТТО  20 мл        NaN        NaN\n",
       "821004        Фильтр кофе Верньяно250мл        NaN        NaN\n",
       "821005                Кофе ЛУНГО  50 мл        NaN        NaN"
      ]
     },
     "execution_count": 2,
     "metadata": {},
     "output_type": "execute_result"
    }
   ],
   "source": [
    "df.head()"
   ]
  },
  {
   "cell_type": "markdown",
   "metadata": {},
   "source": [
    "## Разбираемся с Unnamed колонками"
   ]
  },
  {
   "cell_type": "code",
   "execution_count": 3,
   "metadata": {},
   "outputs": [],
   "source": [
    "df = df.rename(columns = {'Unnamed: 2': 'U2', 'Unnamed: 3': 'U3'})"
   ]
  },
  {
   "cell_type": "code",
   "execution_count": 4,
   "metadata": {},
   "outputs": [
    {
     "data": {
      "text/plain": [
       "Index(['Product_name', 'U2', 'U3'], dtype='object')"
      ]
     },
     "execution_count": 4,
     "metadata": {},
     "output_type": "execute_result"
    }
   ],
   "source": [
    "df.columns"
   ]
  },
  {
   "cell_type": "code",
   "execution_count": 5,
   "metadata": {},
   "outputs": [
    {
     "data": {
      "text/plain": [
       "array([nan, 'манго'], dtype=object)"
      ]
     },
     "execution_count": 5,
     "metadata": {},
     "output_type": "execute_result"
    }
   ],
   "source": [
    "df.U2.unique()"
   ]
  },
  {
   "cell_type": "code",
   "execution_count": 6,
   "metadata": {},
   "outputs": [
    {
     "data": {
      "text/plain": [
       "array([nan, '5%', '6%', '75л', '33', '5', '5 см'], dtype=object)"
      ]
     },
     "execution_count": 6,
     "metadata": {},
     "output_type": "execute_result"
    }
   ],
   "source": [
    "df.U3.unique()"
   ]
  },
  {
   "cell_type": "code",
   "execution_count": 7,
   "metadata": {},
   "outputs": [
    {
     "data": {
      "text/html": [
       "<div>\n",
       "<style scoped>\n",
       "    .dataframe tbody tr th:only-of-type {\n",
       "        vertical-align: middle;\n",
       "    }\n",
       "\n",
       "    .dataframe tbody tr th {\n",
       "        vertical-align: top;\n",
       "    }\n",
       "\n",
       "    .dataframe thead th {\n",
       "        text-align: right;\n",
       "    }\n",
       "</style>\n",
       "<table border=\"1\" class=\"dataframe\">\n",
       "  <thead>\n",
       "    <tr style=\"text-align: right;\">\n",
       "      <th></th>\n",
       "      <th>Product_name</th>\n",
       "      <th>U2</th>\n",
       "      <th>U3</th>\n",
       "    </tr>\n",
       "  </thead>\n",
       "  <tbody>\n",
       "    <tr>\n",
       "      <th>count</th>\n",
       "      <td>9786</td>\n",
       "      <td>1</td>\n",
       "      <td>7</td>\n",
       "    </tr>\n",
       "    <tr>\n",
       "      <th>unique</th>\n",
       "      <td>9563</td>\n",
       "      <td>1</td>\n",
       "      <td>6</td>\n",
       "    </tr>\n",
       "    <tr>\n",
       "      <th>top</th>\n",
       "      <td>Не использовать</td>\n",
       "      <td>манго</td>\n",
       "      <td>5</td>\n",
       "    </tr>\n",
       "    <tr>\n",
       "      <th>freq</th>\n",
       "      <td>6</td>\n",
       "      <td>1</td>\n",
       "      <td>2</td>\n",
       "    </tr>\n",
       "  </tbody>\n",
       "</table>\n",
       "</div>"
      ],
      "text/plain": [
       "           Product_name     U2 U3\n",
       "count              9786      1  7\n",
       "unique             9563      1  6\n",
       "top     Не использовать  манго  5\n",
       "freq                  6      1  2"
      ]
     },
     "execution_count": 7,
     "metadata": {},
     "output_type": "execute_result"
    }
   ],
   "source": [
    "df.describe()"
   ]
  },
  {
   "cell_type": "code",
   "execution_count": 8,
   "metadata": {},
   "outputs": [],
   "source": [
    "df=df.drop(columns={'U2', 'U3'})"
   ]
  },
  {
   "cell_type": "code",
   "execution_count": 9,
   "metadata": {},
   "outputs": [],
   "source": [
    "df=df.drop(df.loc[df['Product_name'] == 'Не использовать'].index, inplace=False)"
   ]
  },
  {
   "cell_type": "code",
   "execution_count": 10,
   "metadata": {},
   "outputs": [],
   "source": [
    "df=df.drop_duplicates()"
   ]
  },
  {
   "cell_type": "code",
   "execution_count": 11,
   "metadata": {},
   "outputs": [
    {
     "data": {
      "text/html": [
       "<div>\n",
       "<style scoped>\n",
       "    .dataframe tbody tr th:only-of-type {\n",
       "        vertical-align: middle;\n",
       "    }\n",
       "\n",
       "    .dataframe tbody tr th {\n",
       "        vertical-align: top;\n",
       "    }\n",
       "\n",
       "    .dataframe thead th {\n",
       "        text-align: right;\n",
       "    }\n",
       "</style>\n",
       "<table border=\"1\" class=\"dataframe\">\n",
       "  <thead>\n",
       "    <tr style=\"text-align: right;\">\n",
       "      <th></th>\n",
       "      <th>Product_name</th>\n",
       "    </tr>\n",
       "  </thead>\n",
       "  <tbody>\n",
       "    <tr>\n",
       "      <th>count</th>\n",
       "      <td>9562</td>\n",
       "    </tr>\n",
       "    <tr>\n",
       "      <th>unique</th>\n",
       "      <td>9562</td>\n",
       "    </tr>\n",
       "    <tr>\n",
       "      <th>top</th>\n",
       "      <td>Ethiopia Lekempti</td>\n",
       "    </tr>\n",
       "    <tr>\n",
       "      <th>freq</th>\n",
       "      <td>1</td>\n",
       "    </tr>\n",
       "  </tbody>\n",
       "</table>\n",
       "</div>"
      ],
      "text/plain": [
       "             Product_name\n",
       "count                9562\n",
       "unique               9562\n",
       "top     Ethiopia Lekempti\n",
       "freq                    1"
      ]
     },
     "execution_count": 11,
     "metadata": {},
     "output_type": "execute_result"
    }
   ],
   "source": [
    "df.describe()"
   ]
  },
  {
   "cell_type": "code",
   "execution_count": 12,
   "metadata": {},
   "outputs": [],
   "source": [
    "df.index.names = [\"product_code\"]\n"
   ]
  },
  {
   "cell_type": "code",
   "execution_count": 13,
   "metadata": {},
   "outputs": [
    {
     "data": {
      "text/plain": [
       "Product_name    Чай красный фрукт 270мл\n",
       "Name: 824021, dtype: object"
      ]
     },
     "execution_count": 13,
     "metadata": {},
     "output_type": "execute_result"
    }
   ],
   "source": [
    "df.loc[824021]"
   ]
  },
  {
   "cell_type": "markdown",
   "metadata": {
    "heading_collapsed": true
   },
   "source": [
    "# Добавляем параметры"
   ]
  },
  {
   "cell_type": "code",
   "execution_count": 14,
   "metadata": {
    "hidden": true
   },
   "outputs": [
    {
     "data": {
      "text/html": [
       "<div>\n",
       "<style scoped>\n",
       "    .dataframe tbody tr th:only-of-type {\n",
       "        vertical-align: middle;\n",
       "    }\n",
       "\n",
       "    .dataframe tbody tr th {\n",
       "        vertical-align: top;\n",
       "    }\n",
       "\n",
       "    .dataframe thead th {\n",
       "        text-align: right;\n",
       "    }\n",
       "</style>\n",
       "<table border=\"1\" class=\"dataframe\">\n",
       "  <thead>\n",
       "    <tr style=\"text-align: right;\">\n",
       "      <th></th>\n",
       "      <th>Product_name</th>\n",
       "    </tr>\n",
       "    <tr>\n",
       "      <th>product_code</th>\n",
       "      <th></th>\n",
       "    </tr>\n",
       "  </thead>\n",
       "  <tbody>\n",
       "    <tr>\n",
       "      <th>821001</th>\n",
       "      <td>Кофе ЭСПРЕССО  30 мл</td>\n",
       "    </tr>\n",
       "    <tr>\n",
       "      <th>821002</th>\n",
       "      <td>Кофе ДОППИО 60мл</td>\n",
       "    </tr>\n",
       "    <tr>\n",
       "      <th>821003</th>\n",
       "      <td>Кофе РИСТРЕТТО  20 мл</td>\n",
       "    </tr>\n",
       "    <tr>\n",
       "      <th>821005</th>\n",
       "      <td>Кофе ЛУНГО  50 мл</td>\n",
       "    </tr>\n",
       "    <tr>\n",
       "      <th>821007</th>\n",
       "      <td>Кофе КОРЕТТО 35 мл</td>\n",
       "    </tr>\n",
       "    <tr>\n",
       "      <th>...</th>\n",
       "      <td>...</td>\n",
       "    </tr>\n",
       "    <tr>\n",
       "      <th>822109</th>\n",
       "      <td>Раф Кофе 250мл</td>\n",
       "    </tr>\n",
       "    <tr>\n",
       "      <th>822152</th>\n",
       "      <td>Раф Кофе 350мл Персонал</td>\n",
       "    </tr>\n",
       "    <tr>\n",
       "      <th>872006</th>\n",
       "      <td>Кофе 200мл Д/Л</td>\n",
       "    </tr>\n",
       "    <tr>\n",
       "      <th>882084</th>\n",
       "      <td>Гранита Кофе 200мл</td>\n",
       "    </tr>\n",
       "    <tr>\n",
       "      <th>892533</th>\n",
       "      <td>Коврижка Мёд/Кофе 100г</td>\n",
       "    </tr>\n",
       "  </tbody>\n",
       "</table>\n",
       "<p>63 rows × 1 columns</p>\n",
       "</div>"
      ],
      "text/plain": [
       "                         Product_name\n",
       "product_code                         \n",
       "821001           Кофе ЭСПРЕССО  30 мл\n",
       "821002               Кофе ДОППИО 60мл\n",
       "821003          Кофе РИСТРЕТТО  20 мл\n",
       "821005              Кофе ЛУНГО  50 мл\n",
       "821007             Кофе КОРЕТТО 35 мл\n",
       "...                               ...\n",
       "822109                 Раф Кофе 250мл\n",
       "822152        Раф Кофе 350мл Персонал\n",
       "872006                 Кофе 200мл Д/Л\n",
       "882084             Гранита Кофе 200мл\n",
       "892533         Коврижка Мёд/Кофе 100г\n",
       "\n",
       "[63 rows x 1 columns]"
      ]
     },
     "execution_count": 14,
     "metadata": {},
     "output_type": "execute_result"
    }
   ],
   "source": [
    "df[df[\"Product_name\"].str.contains(\"Кофе \")]"
   ]
  },
  {
   "cell_type": "markdown",
   "metadata": {
    "hidden": true
   },
   "source": [
    "## Фильтр для напитков (фильтруем по единицам измерения)"
   ]
  },
  {
   "cell_type": "code",
   "execution_count": 15,
   "metadata": {
    "hidden": true
   },
   "outputs": [],
   "source": [
    "drinks = df[df[\"Product_name\"].str.contains(\"[0-9]+мл\")]"
   ]
  },
  {
   "cell_type": "code",
   "execution_count": 16,
   "metadata": {
    "hidden": true
   },
   "outputs": [],
   "source": [
    "drinksWOcofee=drinks.drop(drinks.loc[drinks['Product_name'].str.contains('кофе ')].index, inplace=False)\n",
    "drinksWOcofee=drinksWOcofee.drop(drinksWOcofee.loc[drinksWOcofee['Product_name'].str.contains('Кофе ')].index, inplace=False)\n",
    "drinksWOcofee=drinksWOcofee.drop(drinksWOcofee.loc[drinksWOcofee['Product_name'].str.contains('АФФОГАТО ')].index, inplace=False)\n",
    "drinksWOcofee=drinksWOcofee.drop(drinksWOcofee.loc[drinksWOcofee['Product_name'].str.contains('Латте ')].index, inplace=False)\n",
    "drinksWOcofee=drinksWOcofee.drop(drinksWOcofee.loc[drinksWOcofee['Product_name'].str.contains('латте')].index, inplace=False)\n",
    "drinksWOcofee=drinksWOcofee.drop(drinksWOcofee.loc[drinksWOcofee['Product_name'].str.contains('Латте/')].index, inplace=False)\n",
    "drinksWOcofee=drinksWOcofee.drop(drinksWOcofee.loc[drinksWOcofee['Product_name'].str.contains('Макиато ')].index, inplace=False)\n",
    "drinksWOcofee=drinksWOcofee.drop(drinksWOcofee.loc[drinksWOcofee['Product_name'].str.contains('Коретто/')].index, inplace=False)\n",
    "drinksWOcofee=drinksWOcofee.drop(drinksWOcofee.loc[drinksWOcofee['Product_name'].str.contains('Коретто ')].index, inplace=False)\n",
    "drinksWOcofee=drinksWOcofee.drop(drinksWOcofee.loc[drinksWOcofee['Product_name'].str.contains('Эспрессо')].index, inplace=False)\n",
    "drinksWOcofee=drinksWOcofee.drop(drinksWOcofee.loc[drinksWOcofee['Product_name'].str.contains('Лунго ')].index, inplace=False)\n",
    "drinksWOcofee=drinksWOcofee.drop(drinksWOcofee.loc[drinksWOcofee['Product_name'].str.contains('Ристретто ')].index, inplace=False)\n",
    "drinksWOcofee=drinksWOcofee.drop(drinksWOcofee.loc[drinksWOcofee['Product_name'].str.contains('Френч пресс')].index, inplace=False)\n",
    "drinksWOcofee=drinksWOcofee.drop(drinksWOcofee.loc[drinksWOcofee['Product_name'].str.contains('Френс пресс')].index, inplace=False)\n",
    "drinksWOcofee=drinksWOcofee.drop(drinksWOcofee.loc[drinksWOcofee['Product_name'].str.contains('Ф.П.')].index, inplace=False)\n",
    "drinksWOcofee=drinksWOcofee.drop(drinksWOcofee.loc[drinksWOcofee['Product_name'].str.contains('Френч Пресс')].index, inplace=False)\n",
    "drinksWOcofee=drinksWOcofee.drop(drinksWOcofee.loc[drinksWOcofee['Product_name'].str.contains('Фильтр ')].index, inplace=False)\n",
    "\n",
    "drinksWOcofee=drinksWOcofee.drop(drinksWOcofee.loc[drinksWOcofee['Product_name'].str.contains('Лу ')].index, inplace=False)\n",
    "drinksWOcofee=drinksWOcofee.drop(drinksWOcofee.loc[drinksWOcofee['Product_name'].str.contains('Ай ')].index, inplace=False)\n",
    "\n",
    "drinksWOcofee=drinksWOcofee.drop(drinksWOcofee.loc[drinksWOcofee['Product_name'].str.contains('Сёчу')].index, inplace=False)\n",
    "drinksWOcofee=drinksWOcofee.drop(drinksWOcofee.loc[drinksWOcofee['Product_name'].str.contains('сёчу')].index, inplace=False)\n",
    "drinksWOcofee=drinksWOcofee.drop(drinksWOcofee.loc[drinksWOcofee['Product_name'].str.contains('Сёчу/')].index, inplace=False)\n",
    "drinksWOcofee=drinksWOcofee.drop(drinksWOcofee.loc[drinksWOcofee['Product_name'].str.contains('Саке ')].index, inplace=False)\n",
    "drinksWOcofee=drinksWOcofee.drop(drinksWOcofee.loc[drinksWOcofee['Product_name'].str.contains('Саке/')].index, inplace=False)"
   ]
  },
  {
   "cell_type": "code",
   "execution_count": 17,
   "metadata": {
    "hidden": true
   },
   "outputs": [],
   "source": [
    "coffeeTab = drinks.loc[drinks['Product_name'].str.contains('Кофе')]\n",
    "coffeelist = ['кофе ', 'Кофе ', \"Эспрессо\", \"Френч пресс\", \"Френс пресс\", \"Френч Пресс\", \"Фильтр\"]\n",
    "temp = drinks.loc[drinks['Product_name'].str.contains('Френс пресс')]\n",
    "coffeeTab = coffeeTab.append(temp)"
   ]
  },
  {
   "cell_type": "code",
   "execution_count": 18,
   "metadata": {
    "hidden": true
   },
   "outputs": [],
   "source": [
    "coffeelist = ['кофе ', 'Кофе ', \"Эспрессо\", \"Френч пресс\", \"Френс пресс\", \"Френч Пресс\", \"Фильтр\"]"
   ]
  },
  {
   "cell_type": "code",
   "execution_count": 19,
   "metadata": {
    "hidden": true
   },
   "outputs": [],
   "source": [
    "temp = drinks.loc[drinks['Product_name'].str.contains('Френс пресс')]"
   ]
  },
  {
   "cell_type": "code",
   "execution_count": 20,
   "metadata": {
    "hidden": true
   },
   "outputs": [],
   "source": [
    "coffeeTab = coffeeTab.append(temp)"
   ]
  },
  {
   "cell_type": "code",
   "execution_count": 21,
   "metadata": {
    "hidden": true
   },
   "outputs": [
    {
     "data": {
      "text/html": [
       "<div>\n",
       "<style scoped>\n",
       "    .dataframe tbody tr th:only-of-type {\n",
       "        vertical-align: middle;\n",
       "    }\n",
       "\n",
       "    .dataframe tbody tr th {\n",
       "        vertical-align: top;\n",
       "    }\n",
       "\n",
       "    .dataframe thead th {\n",
       "        text-align: right;\n",
       "    }\n",
       "</style>\n",
       "<table border=\"1\" class=\"dataframe\">\n",
       "  <thead>\n",
       "    <tr style=\"text-align: right;\">\n",
       "      <th></th>\n",
       "      <th>Product_name</th>\n",
       "    </tr>\n",
       "    <tr>\n",
       "      <th>product_code</th>\n",
       "      <th></th>\n",
       "    </tr>\n",
       "  </thead>\n",
       "  <tbody>\n",
       "    <tr>\n",
       "      <th>821002</th>\n",
       "      <td>Кофе ДОППИО 60мл</td>\n",
       "    </tr>\n",
       "    <tr>\n",
       "      <th>821008</th>\n",
       "      <td>Кофе Эспрессо Романо50мл</td>\n",
       "    </tr>\n",
       "    <tr>\n",
       "      <th>821012</th>\n",
       "      <td>Кофе АМЕРИКАНО 90мл</td>\n",
       "    </tr>\n",
       "    <tr>\n",
       "      <th>821014</th>\n",
       "      <td>Кофе Мокко 70мл</td>\n",
       "    </tr>\n",
       "    <tr>\n",
       "      <th>821120</th>\n",
       "      <td>Кофе Мокко 60мл</td>\n",
       "    </tr>\n",
       "    <tr>\n",
       "      <th>821142</th>\n",
       "      <td>Кофе Колада 270мл</td>\n",
       "    </tr>\n",
       "    <tr>\n",
       "      <th>821167</th>\n",
       "      <td>Кофе по Алжирски 120мл</td>\n",
       "    </tr>\n",
       "    <tr>\n",
       "      <th>821170</th>\n",
       "      <td>Айриш Кофе  150мл</td>\n",
       "    </tr>\n",
       "    <tr>\n",
       "      <th>821172</th>\n",
       "      <td>Кофе по-тайски NEW 250мл</td>\n",
       "    </tr>\n",
       "    <tr>\n",
       "      <th>821175</th>\n",
       "      <td>Кофе Глясе 80мл</td>\n",
       "    </tr>\n",
       "    <tr>\n",
       "      <th>821176</th>\n",
       "      <td>Кофе Глясе к-брюле 80мл</td>\n",
       "    </tr>\n",
       "    <tr>\n",
       "      <th>821179</th>\n",
       "      <td>Кофе по-тайски 250мл</td>\n",
       "    </tr>\n",
       "    <tr>\n",
       "      <th>821201</th>\n",
       "      <td>Кофе Франжелико 150мл</td>\n",
       "    </tr>\n",
       "    <tr>\n",
       "      <th>821202</th>\n",
       "      <td>Кофе Американ/Кэрол 120мл</td>\n",
       "    </tr>\n",
       "    <tr>\n",
       "      <th>821207</th>\n",
       "      <td>Тай Кофе 270мл</td>\n",
       "    </tr>\n",
       "    <tr>\n",
       "      <th>821208</th>\n",
       "      <td>Кофе по-восточному 70мл</td>\n",
       "    </tr>\n",
       "    <tr>\n",
       "      <th>821232</th>\n",
       "      <td>Кофе АмерЭкстра с/с 120мл</td>\n",
       "    </tr>\n",
       "    <tr>\n",
       "      <th>821233</th>\n",
       "      <td>Кофе по-французски 100мл</td>\n",
       "    </tr>\n",
       "    <tr>\n",
       "      <th>821234</th>\n",
       "      <td>Кофе Эспрессо М 30мл</td>\n",
       "    </tr>\n",
       "    <tr>\n",
       "      <th>821235</th>\n",
       "      <td>Кофе Доппио М 60мл</td>\n",
       "    </tr>\n",
       "    <tr>\n",
       "      <th>821253</th>\n",
       "      <td>Кофе с Hennessi 100мл</td>\n",
       "    </tr>\n",
       "    <tr>\n",
       "      <th>821352</th>\n",
       "      <td>Кофе эспрессо декаф 90мл</td>\n",
       "    </tr>\n",
       "    <tr>\n",
       "      <th>822002</th>\n",
       "      <td>РАФ Кофе 250мл</td>\n",
       "    </tr>\n",
       "    <tr>\n",
       "      <th>822003</th>\n",
       "      <td>Кофе МАКИАТО 40мл</td>\n",
       "    </tr>\n",
       "    <tr>\n",
       "      <th>822006</th>\n",
       "      <td>Кофе КАПУЧИНО 150мл</td>\n",
       "    </tr>\n",
       "    <tr>\n",
       "      <th>822009</th>\n",
       "      <td>АЙРИШ Кофе классич. 230мл</td>\n",
       "    </tr>\n",
       "    <tr>\n",
       "      <th>822010</th>\n",
       "      <td>КИНДЕР Кофе 220мл</td>\n",
       "    </tr>\n",
       "    <tr>\n",
       "      <th>822011</th>\n",
       "      <td>Кофе по-Алжирски 120мл</td>\n",
       "    </tr>\n",
       "    <tr>\n",
       "      <th>822012</th>\n",
       "      <td>Кофе по-Дачному 250мл</td>\n",
       "    </tr>\n",
       "    <tr>\n",
       "      <th>822014</th>\n",
       "      <td>Кофе по-Мексикански 120мл</td>\n",
       "    </tr>\n",
       "    <tr>\n",
       "      <th>822015</th>\n",
       "      <td>Кофе по-Тайландски 240мл</td>\n",
       "    </tr>\n",
       "    <tr>\n",
       "      <th>822018</th>\n",
       "      <td>Кофе по-дачн.Сафари 250мл</td>\n",
       "    </tr>\n",
       "    <tr>\n",
       "      <th>822030</th>\n",
       "      <td>Кофе по-дач.Э.Бар250мл</td>\n",
       "    </tr>\n",
       "    <tr>\n",
       "      <th>822031</th>\n",
       "      <td>Кофе Кортадо 150мл</td>\n",
       "    </tr>\n",
       "    <tr>\n",
       "      <th>822032</th>\n",
       "      <td>Кофе по-дач. XXI 250мл</td>\n",
       "    </tr>\n",
       "    <tr>\n",
       "      <th>822033</th>\n",
       "      <td>Кофе по-дач.Прокоп250мл</td>\n",
       "    </tr>\n",
       "    <tr>\n",
       "      <th>822034</th>\n",
       "      <td>Кофе по-дач.Фр.Роаст250мл</td>\n",
       "    </tr>\n",
       "    <tr>\n",
       "      <th>822035</th>\n",
       "      <td>Кофе по-дачному 250мл нов</td>\n",
       "    </tr>\n",
       "    <tr>\n",
       "      <th>822036</th>\n",
       "      <td>Кофе-Кабана 230мл</td>\n",
       "    </tr>\n",
       "    <tr>\n",
       "      <th>822039</th>\n",
       "      <td>Кофе Императорскiй 150мл</td>\n",
       "    </tr>\n",
       "    <tr>\n",
       "      <th>822040</th>\n",
       "      <td>Кофе по мекcикански130мл</td>\n",
       "    </tr>\n",
       "    <tr>\n",
       "      <th>822041</th>\n",
       "      <td>Кофе по французски115мл</td>\n",
       "    </tr>\n",
       "    <tr>\n",
       "      <th>822048</th>\n",
       "      <td>Кофе по тайски н/ж  270мл</td>\n",
       "    </tr>\n",
       "    <tr>\n",
       "      <th>822087</th>\n",
       "      <td>Кофе Латте 300мл</td>\n",
       "    </tr>\n",
       "    <tr>\n",
       "      <th>822088</th>\n",
       "      <td>Кофе латте соевое 300мл</td>\n",
       "    </tr>\n",
       "    <tr>\n",
       "      <th>822098</th>\n",
       "      <td>Кофе латте М 270мл</td>\n",
       "    </tr>\n",
       "    <tr>\n",
       "      <th>822099</th>\n",
       "      <td>Кофе Капучино М 150мл</td>\n",
       "    </tr>\n",
       "    <tr>\n",
       "      <th>822109</th>\n",
       "      <td>Раф Кофе 250мл</td>\n",
       "    </tr>\n",
       "    <tr>\n",
       "      <th>822152</th>\n",
       "      <td>Раф Кофе 350мл Персонал</td>\n",
       "    </tr>\n",
       "    <tr>\n",
       "      <th>872006</th>\n",
       "      <td>Кофе 200мл Д/Л</td>\n",
       "    </tr>\n",
       "    <tr>\n",
       "      <th>882084</th>\n",
       "      <td>Гранита Кофе 200мл</td>\n",
       "    </tr>\n",
       "    <tr>\n",
       "      <th>821067</th>\n",
       "      <td>Френс пресс Эфиопия 200мл</td>\n",
       "    </tr>\n",
       "    <tr>\n",
       "      <th>821067</th>\n",
       "      <td>Френс пресс Эфиопия 200мл</td>\n",
       "    </tr>\n",
       "  </tbody>\n",
       "</table>\n",
       "</div>"
      ],
      "text/plain": [
       "                           Product_name\n",
       "product_code                           \n",
       "821002                 Кофе ДОППИО 60мл\n",
       "821008         Кофе Эспрессо Романо50мл\n",
       "821012              Кофе АМЕРИКАНО 90мл\n",
       "821014                  Кофе Мокко 70мл\n",
       "821120                  Кофе Мокко 60мл\n",
       "821142                Кофе Колада 270мл\n",
       "821167           Кофе по Алжирски 120мл\n",
       "821170                Айриш Кофе  150мл\n",
       "821172         Кофе по-тайски NEW 250мл\n",
       "821175                  Кофе Глясе 80мл\n",
       "821176          Кофе Глясе к-брюле 80мл\n",
       "821179             Кофе по-тайски 250мл\n",
       "821201            Кофе Франжелико 150мл\n",
       "821202        Кофе Американ/Кэрол 120мл\n",
       "821207                   Тай Кофе 270мл\n",
       "821208          Кофе по-восточному 70мл\n",
       "821232        Кофе АмерЭкстра с/с 120мл\n",
       "821233         Кофе по-французски 100мл\n",
       "821234             Кофе Эспрессо М 30мл\n",
       "821235               Кофе Доппио М 60мл\n",
       "821253            Кофе с Hennessi 100мл\n",
       "821352         Кофе эспрессо декаф 90мл\n",
       "822002                   РАФ Кофе 250мл\n",
       "822003                Кофе МАКИАТО 40мл\n",
       "822006              Кофе КАПУЧИНО 150мл\n",
       "822009        АЙРИШ Кофе классич. 230мл\n",
       "822010                КИНДЕР Кофе 220мл\n",
       "822011           Кофе по-Алжирски 120мл\n",
       "822012            Кофе по-Дачному 250мл\n",
       "822014        Кофе по-Мексикански 120мл\n",
       "822015         Кофе по-Тайландски 240мл\n",
       "822018        Кофе по-дачн.Сафари 250мл\n",
       "822030           Кофе по-дач.Э.Бар250мл\n",
       "822031               Кофе Кортадо 150мл\n",
       "822032           Кофе по-дач. XXI 250мл\n",
       "822033          Кофе по-дач.Прокоп250мл\n",
       "822034        Кофе по-дач.Фр.Роаст250мл\n",
       "822035        Кофе по-дачному 250мл нов\n",
       "822036                Кофе-Кабана 230мл\n",
       "822039         Кофе Императорскiй 150мл\n",
       "822040         Кофе по мекcикански130мл\n",
       "822041          Кофе по французски115мл\n",
       "822048        Кофе по тайски н/ж  270мл\n",
       "822087                 Кофе Латте 300мл\n",
       "822088          Кофе латте соевое 300мл\n",
       "822098               Кофе латте М 270мл\n",
       "822099            Кофе Капучино М 150мл\n",
       "822109                   Раф Кофе 250мл\n",
       "822152          Раф Кофе 350мл Персонал\n",
       "872006                   Кофе 200мл Д/Л\n",
       "882084               Гранита Кофе 200мл\n",
       "821067        Френс пресс Эфиопия 200мл\n",
       "821067        Френс пресс Эфиопия 200мл"
      ]
     },
     "execution_count": 21,
     "metadata": {},
     "output_type": "execute_result"
    }
   ],
   "source": [
    "coffeeTab"
   ]
  },
  {
   "cell_type": "code",
   "execution_count": null,
   "metadata": {
    "hidden": true
   },
   "outputs": [],
   "source": []
  },
  {
   "cell_type": "code",
   "execution_count": 22,
   "metadata": {
    "hidden": true
   },
   "outputs": [],
   "source": [
    "tea = df[df[\"Product_name\"].str.contains(\"Чай \")]"
   ]
  },
  {
   "cell_type": "code",
   "execution_count": 23,
   "metadata": {
    "hidden": true
   },
   "outputs": [
    {
     "data": {
      "text/html": [
       "<div>\n",
       "<style scoped>\n",
       "    .dataframe tbody tr th:only-of-type {\n",
       "        vertical-align: middle;\n",
       "    }\n",
       "\n",
       "    .dataframe tbody tr th {\n",
       "        vertical-align: top;\n",
       "    }\n",
       "\n",
       "    .dataframe thead th {\n",
       "        text-align: right;\n",
       "    }\n",
       "</style>\n",
       "<table border=\"1\" class=\"dataframe\">\n",
       "  <thead>\n",
       "    <tr style=\"text-align: right;\">\n",
       "      <th></th>\n",
       "      <th>Product_name</th>\n",
       "    </tr>\n",
       "    <tr>\n",
       "      <th>product_code</th>\n",
       "      <th></th>\n",
       "    </tr>\n",
       "  </thead>\n",
       "  <tbody>\n",
       "    <tr>\n",
       "      <th>824001</th>\n",
       "      <td>Чай Ассам 300мл</td>\n",
       "    </tr>\n",
       "    <tr>\n",
       "      <th>824003</th>\n",
       "      <td>Чай У Лун Се Чунг300</td>\n",
       "    </tr>\n",
       "    <tr>\n",
       "      <th>824004</th>\n",
       "      <td>Чай зел.с жасм. 300</td>\n",
       "    </tr>\n",
       "    <tr>\n",
       "      <th>824006</th>\n",
       "      <td>Чай Кокей ча 300мл</td>\n",
       "    </tr>\n",
       "    <tr>\n",
       "      <th>824007</th>\n",
       "      <td>Чай Лапсанг Сучонг300</td>\n",
       "    </tr>\n",
       "    <tr>\n",
       "      <th>...</th>\n",
       "      <td>...</td>\n",
       "    </tr>\n",
       "    <tr>\n",
       "      <th>849011</th>\n",
       "      <td>Завтрак Чай зел/Яичница</td>\n",
       "    </tr>\n",
       "    <tr>\n",
       "      <th>849012</th>\n",
       "      <td>Завтрак Чай зел/омлет</td>\n",
       "    </tr>\n",
       "    <tr>\n",
       "      <th>849013</th>\n",
       "      <td>Завтрак Чай зел/каша</td>\n",
       "    </tr>\n",
       "    <tr>\n",
       "      <th>849014</th>\n",
       "      <td>Завтрак Чай зел/Запеканка</td>\n",
       "    </tr>\n",
       "    <tr>\n",
       "      <th>872005</th>\n",
       "      <td>Чай чёрный с мятой 200мл</td>\n",
       "    </tr>\n",
       "  </tbody>\n",
       "</table>\n",
       "<p>138 rows × 1 columns</p>\n",
       "</div>"
      ],
      "text/plain": [
       "                           Product_name\n",
       "product_code                           \n",
       "824001                  Чай Ассам 300мл\n",
       "824003             Чай У Лун Се Чунг300\n",
       "824004              Чай зел.с жасм. 300\n",
       "824006               Чай Кокей ча 300мл\n",
       "824007            Чай Лапсанг Сучонг300\n",
       "...                                 ...\n",
       "849011          Завтрак Чай зел/Яичница\n",
       "849012            Завтрак Чай зел/омлет\n",
       "849013             Завтрак Чай зел/каша\n",
       "849014        Завтрак Чай зел/Запеканка\n",
       "872005         Чай чёрный с мятой 200мл\n",
       "\n",
       "[138 rows x 1 columns]"
      ]
     },
     "execution_count": 23,
     "metadata": {},
     "output_type": "execute_result"
    }
   ],
   "source": [
    "tea"
   ]
  },
  {
   "cell_type": "code",
   "execution_count": null,
   "metadata": {
    "hidden": true
   },
   "outputs": [],
   "source": []
  },
  {
   "cell_type": "markdown",
   "metadata": {
    "hidden": true
   },
   "source": [
    "## Фильтр для супов"
   ]
  },
  {
   "cell_type": "code",
   "execution_count": 24,
   "metadata": {
    "hidden": true
   },
   "outputs": [
    {
     "data": {
      "text/html": [
       "<div>\n",
       "<style scoped>\n",
       "    .dataframe tbody tr th:only-of-type {\n",
       "        vertical-align: middle;\n",
       "    }\n",
       "\n",
       "    .dataframe tbody tr th {\n",
       "        vertical-align: top;\n",
       "    }\n",
       "\n",
       "    .dataframe thead th {\n",
       "        text-align: right;\n",
       "    }\n",
       "</style>\n",
       "<table border=\"1\" class=\"dataframe\">\n",
       "  <thead>\n",
       "    <tr style=\"text-align: right;\">\n",
       "      <th></th>\n",
       "      <th>Product_name</th>\n",
       "    </tr>\n",
       "    <tr>\n",
       "      <th>product_code</th>\n",
       "      <th></th>\n",
       "    </tr>\n",
       "  </thead>\n",
       "  <tbody>\n",
       "    <tr>\n",
       "      <th>847003</th>\n",
       "      <td>Сырный суп 250г</td>\n",
       "    </tr>\n",
       "    <tr>\n",
       "      <th>847017</th>\n",
       "      <td>Луковый суп 250г</td>\n",
       "    </tr>\n",
       "    <tr>\n",
       "      <th>847073</th>\n",
       "      <td>Дим Сам суп 300г</td>\n",
       "    </tr>\n",
       "    <tr>\n",
       "      <th>847077</th>\n",
       "      <td>Тай суп с креветками 250г</td>\n",
       "    </tr>\n",
       "    <tr>\n",
       "      <th>847092</th>\n",
       "      <td>Бессарабский суп 300г</td>\n",
       "    </tr>\n",
       "    <tr>\n",
       "      <th>847094</th>\n",
       "      <td>Льежский суп с ф/г 250г</td>\n",
       "    </tr>\n",
       "    <tr>\n",
       "      <th>847098</th>\n",
       "      <td>Калабрийск летн суп 300г</td>\n",
       "    </tr>\n",
       "    <tr>\n",
       "      <th>847103</th>\n",
       "      <td>Калабрий зимний суп 300Г</td>\n",
       "    </tr>\n",
       "    <tr>\n",
       "      <th>847106</th>\n",
       "      <td>Тыквенный суп 300г</td>\n",
       "    </tr>\n",
       "    <tr>\n",
       "      <th>847111</th>\n",
       "      <td>Мисо суп тоф/шии-так 300г</td>\n",
       "    </tr>\n",
       "    <tr>\n",
       "      <th>847119</th>\n",
       "      <td>Мисо суп с крабами 300г</td>\n",
       "    </tr>\n",
       "    <tr>\n",
       "      <th>847123</th>\n",
       "      <td>Оранж суп 250г</td>\n",
       "    </tr>\n",
       "    <tr>\n",
       "      <th>847127</th>\n",
       "      <td>Мисо суп ланч 180г</td>\n",
       "    </tr>\n",
       "    <tr>\n",
       "      <th>847130</th>\n",
       "      <td>Том Ям суп 300г</td>\n",
       "    </tr>\n",
       "    <tr>\n",
       "      <th>847131</th>\n",
       "      <td>Кимчи суп 270г</td>\n",
       "    </tr>\n",
       "    <tr>\n",
       "      <th>847138</th>\n",
       "      <td>Ягодный суп 300г</td>\n",
       "    </tr>\n",
       "    <tr>\n",
       "      <th>847141</th>\n",
       "      <td>Кимчи суп 270</td>\n",
       "    </tr>\n",
       "    <tr>\n",
       "      <th>847142</th>\n",
       "      <td>Рыбн суп сибас/карри 270</td>\n",
       "    </tr>\n",
       "    <tr>\n",
       "      <th>847151</th>\n",
       "      <td>Эдамаме суп 250г</td>\n",
       "    </tr>\n",
       "    <tr>\n",
       "      <th>847159</th>\n",
       "      <td>Кимчи суп 230г</td>\n",
       "    </tr>\n",
       "    <tr>\n",
       "      <th>847171</th>\n",
       "      <td>Куриный домашний суп 300г</td>\n",
       "    </tr>\n",
       "    <tr>\n",
       "      <th>848951</th>\n",
       "      <td>Гороховый суп п/ф</td>\n",
       "    </tr>\n",
       "    <tr>\n",
       "      <th>849250</th>\n",
       "      <td>Мисо суп п/ф</td>\n",
       "    </tr>\n",
       "    <tr>\n",
       "      <th>849252</th>\n",
       "      <td>Кокосовый суп п/ф</td>\n",
       "    </tr>\n",
       "    <tr>\n",
       "      <th>849469</th>\n",
       "      <td>Чечевичный суп п/ф</td>\n",
       "    </tr>\n",
       "    <tr>\n",
       "      <th>849485</th>\n",
       "      <td>Эдамаме суп п/ф</td>\n",
       "    </tr>\n",
       "    <tr>\n",
       "      <th>849534</th>\n",
       "      <td>Мексиканский суп п/ф</td>\n",
       "    </tr>\n",
       "  </tbody>\n",
       "</table>\n",
       "</div>"
      ],
      "text/plain": [
       "                           Product_name\n",
       "product_code                           \n",
       "847003                  Сырный суп 250г\n",
       "847017                 Луковый суп 250г\n",
       "847073                 Дим Сам суп 300г\n",
       "847077        Тай суп с креветками 250г\n",
       "847092            Бессарабский суп 300г\n",
       "847094          Льежский суп с ф/г 250г\n",
       "847098         Калабрийск летн суп 300г\n",
       "847103         Калабрий зимний суп 300Г\n",
       "847106               Тыквенный суп 300г\n",
       "847111        Мисо суп тоф/шии-так 300г\n",
       "847119          Мисо суп с крабами 300г\n",
       "847123                   Оранж суп 250г\n",
       "847127               Мисо суп ланч 180г\n",
       "847130                  Том Ям суп 300г\n",
       "847131                   Кимчи суп 270г\n",
       "847138                 Ягодный суп 300г\n",
       "847141                    Кимчи суп 270\n",
       "847142         Рыбн суп сибас/карри 270\n",
       "847151                 Эдамаме суп 250г\n",
       "847159                   Кимчи суп 230г\n",
       "847171        Куриный домашний суп 300г\n",
       "848951                Гороховый суп п/ф\n",
       "849250                     Мисо суп п/ф\n",
       "849252                Кокосовый суп п/ф\n",
       "849469               Чечевичный суп п/ф\n",
       "849485                  Эдамаме суп п/ф\n",
       "849534             Мексиканский суп п/ф"
      ]
     },
     "execution_count": 24,
     "metadata": {},
     "output_type": "execute_result"
    }
   ],
   "source": [
    "df[df[\"Product_name\"].str.contains(\" суп \")]"
   ]
  },
  {
   "cell_type": "code",
   "execution_count": 25,
   "metadata": {
    "hidden": true
   },
   "outputs": [
    {
     "data": {
      "text/html": [
       "<div>\n",
       "<style scoped>\n",
       "    .dataframe tbody tr th:only-of-type {\n",
       "        vertical-align: middle;\n",
       "    }\n",
       "\n",
       "    .dataframe tbody tr th {\n",
       "        vertical-align: top;\n",
       "    }\n",
       "\n",
       "    .dataframe thead th {\n",
       "        text-align: right;\n",
       "    }\n",
       "</style>\n",
       "<table border=\"1\" class=\"dataframe\">\n",
       "  <thead>\n",
       "    <tr style=\"text-align: right;\">\n",
       "      <th></th>\n",
       "      <th>Product_name</th>\n",
       "    </tr>\n",
       "    <tr>\n",
       "      <th>product_code</th>\n",
       "      <th></th>\n",
       "    </tr>\n",
       "  </thead>\n",
       "  <tbody>\n",
       "    <tr>\n",
       "      <th>847001</th>\n",
       "      <td>Суп луковый 230г</td>\n",
       "    </tr>\n",
       "    <tr>\n",
       "      <th>847002</th>\n",
       "      <td>Суп пюре Море/Окиян 270г</td>\n",
       "    </tr>\n",
       "    <tr>\n",
       "      <th>847020</th>\n",
       "      <td>Суп грибной 250г</td>\n",
       "    </tr>\n",
       "    <tr>\n",
       "      <th>847022</th>\n",
       "      <td>Суп Монсун 250г</td>\n",
       "    </tr>\n",
       "    <tr>\n",
       "      <th>847023</th>\n",
       "      <td>Суп Френч-карри 250г</td>\n",
       "    </tr>\n",
       "    <tr>\n",
       "      <th>...</th>\n",
       "      <td>...</td>\n",
       "    </tr>\n",
       "    <tr>\n",
       "      <th>876011</th>\n",
       "      <td>Суп фасолевый 300г Д/С</td>\n",
       "    </tr>\n",
       "    <tr>\n",
       "      <th>876014</th>\n",
       "      <td>Суп Венгерский 300 Д/С</td>\n",
       "    </tr>\n",
       "    <tr>\n",
       "      <th>876015</th>\n",
       "      <td>Суп овощной 300г Д/С</td>\n",
       "    </tr>\n",
       "    <tr>\n",
       "      <th>876022</th>\n",
       "      <td>Суп Харчо 300г Д/С</td>\n",
       "    </tr>\n",
       "    <tr>\n",
       "      <th>894027</th>\n",
       "      <td>Суп фруктовый п/ф</td>\n",
       "    </tr>\n",
       "  </tbody>\n",
       "</table>\n",
       "<p>97 rows × 1 columns</p>\n",
       "</div>"
      ],
      "text/plain": [
       "                          Product_name\n",
       "product_code                          \n",
       "847001                Суп луковый 230г\n",
       "847002        Суп пюре Море/Окиян 270г\n",
       "847020                Суп грибной 250г\n",
       "847022                 Суп Монсун 250г\n",
       "847023            Суп Френч-карри 250г\n",
       "...                                ...\n",
       "876011          Суп фасолевый 300г Д/С\n",
       "876014          Суп Венгерский 300 Д/С\n",
       "876015            Суп овощной 300г Д/С\n",
       "876022              Суп Харчо 300г Д/С\n",
       "894027               Суп фруктовый п/ф\n",
       "\n",
       "[97 rows x 1 columns]"
      ]
     },
     "execution_count": 25,
     "metadata": {},
     "output_type": "execute_result"
    }
   ],
   "source": [
    "df[df[\"Product_name\"].str.contains(\"Суп \")]"
   ]
  },
  {
   "cell_type": "markdown",
   "metadata": {},
   "source": [
    "# Разберёмся с продажами"
   ]
  },
  {
   "cell_type": "code",
   "execution_count": 26,
   "metadata": {},
   "outputs": [],
   "source": [
    "import matplotlib\n",
    "import matplotlib.pyplot as plt\n",
    "\n",
    "# выбор темы картинок на Ваш вкус. Необязательная строчка.\n",
    "matplotlib.style.use('ggplot')\n",
    "# Эта строчка нужна для того, чтобы картинки отображались в ячейках\n",
    "%matplotlib inline"
   ]
  },
  {
   "cell_type": "markdown",
   "metadata": {},
   "source": [
    "## SALES table"
   ]
  },
  {
   "cell_type": "code",
   "execution_count": 27,
   "metadata": {},
   "outputs": [],
   "source": [
    "sales = pd.read_csv('SALE_LIST.csv',sep=\";\")"
   ]
  },
  {
   "cell_type": "code",
   "execution_count": 28,
   "metadata": {},
   "outputs": [
    {
     "data": {
      "text/html": [
       "<div>\n",
       "<style scoped>\n",
       "    .dataframe tbody tr th:only-of-type {\n",
       "        vertical-align: middle;\n",
       "    }\n",
       "\n",
       "    .dataframe tbody tr th {\n",
       "        vertical-align: top;\n",
       "    }\n",
       "\n",
       "    .dataframe thead th {\n",
       "        text-align: right;\n",
       "    }\n",
       "</style>\n",
       "<table border=\"1\" class=\"dataframe\">\n",
       "  <thead>\n",
       "    <tr style=\"text-align: right;\">\n",
       "      <th></th>\n",
       "      <th>date</th>\n",
       "      <th>product_code</th>\n",
       "      <th>rest_code</th>\n",
       "      <th>product_count</th>\n",
       "    </tr>\n",
       "  </thead>\n",
       "  <tbody>\n",
       "    <tr>\n",
       "      <th>0</th>\n",
       "      <td>06.01.2009</td>\n",
       "      <td>824021</td>\n",
       "      <td>Озерный</td>\n",
       "      <td>4</td>\n",
       "    </tr>\n",
       "    <tr>\n",
       "      <th>1</th>\n",
       "      <td>06.01.2009</td>\n",
       "      <td>824068</td>\n",
       "      <td>Озерный</td>\n",
       "      <td>1</td>\n",
       "    </tr>\n",
       "    <tr>\n",
       "      <th>2</th>\n",
       "      <td>06.01.2009</td>\n",
       "      <td>824070</td>\n",
       "      <td>Озерный</td>\n",
       "      <td>2</td>\n",
       "    </tr>\n",
       "    <tr>\n",
       "      <th>3</th>\n",
       "      <td>06.01.2009</td>\n",
       "      <td>824073</td>\n",
       "      <td>Озерный</td>\n",
       "      <td>1</td>\n",
       "    </tr>\n",
       "    <tr>\n",
       "      <th>4</th>\n",
       "      <td>06.01.2009</td>\n",
       "      <td>824074</td>\n",
       "      <td>Озерный</td>\n",
       "      <td>1</td>\n",
       "    </tr>\n",
       "    <tr>\n",
       "      <th>...</th>\n",
       "      <td>...</td>\n",
       "      <td>...</td>\n",
       "      <td>...</td>\n",
       "      <td>...</td>\n",
       "    </tr>\n",
       "    <tr>\n",
       "      <th>135915</th>\n",
       "      <td>26.05.2013</td>\n",
       "      <td>892545</td>\n",
       "      <td>Мечта</td>\n",
       "      <td>3</td>\n",
       "    </tr>\n",
       "    <tr>\n",
       "      <th>135916</th>\n",
       "      <td>27.05.2013</td>\n",
       "      <td>892545</td>\n",
       "      <td>Мечта</td>\n",
       "      <td>1</td>\n",
       "    </tr>\n",
       "    <tr>\n",
       "      <th>135917</th>\n",
       "      <td>28.05.2013</td>\n",
       "      <td>892545</td>\n",
       "      <td>Мечта</td>\n",
       "      <td>3</td>\n",
       "    </tr>\n",
       "    <tr>\n",
       "      <th>135918</th>\n",
       "      <td>29.05.2013</td>\n",
       "      <td>892545</td>\n",
       "      <td>Мечта</td>\n",
       "      <td>4</td>\n",
       "    </tr>\n",
       "    <tr>\n",
       "      <th>135919</th>\n",
       "      <td>30.05.2013</td>\n",
       "      <td>892545</td>\n",
       "      <td>Мечта</td>\n",
       "      <td>1</td>\n",
       "    </tr>\n",
       "  </tbody>\n",
       "</table>\n",
       "<p>135920 rows × 4 columns</p>\n",
       "</div>"
      ],
      "text/plain": [
       "              date  product_code rest_code  product_count\n",
       "0       06.01.2009        824021   Озерный              4\n",
       "1       06.01.2009        824068   Озерный              1\n",
       "2       06.01.2009        824070   Озерный              2\n",
       "3       06.01.2009        824073   Озерный              1\n",
       "4       06.01.2009        824074   Озерный              1\n",
       "...            ...           ...       ...            ...\n",
       "135915  26.05.2013        892545     Мечта              3\n",
       "135916  27.05.2013        892545     Мечта              1\n",
       "135917  28.05.2013        892545     Мечта              3\n",
       "135918  29.05.2013        892545     Мечта              4\n",
       "135919  30.05.2013        892545     Мечта              1\n",
       "\n",
       "[135920 rows x 4 columns]"
      ]
     },
     "execution_count": 28,
     "metadata": {},
     "output_type": "execute_result"
    }
   ],
   "source": [
    "sales"
   ]
  },
  {
   "cell_type": "code",
   "execution_count": 29,
   "metadata": {},
   "outputs": [
    {
     "data": {
      "text/plain": [
       "date             object\n",
       "product_code      int64\n",
       "rest_code        object\n",
       "product_count     int64\n",
       "dtype: object"
      ]
     },
     "execution_count": 29,
     "metadata": {},
     "output_type": "execute_result"
    }
   ],
   "source": [
    "sales.dtypes"
   ]
  },
  {
   "cell_type": "code",
   "execution_count": 30,
   "metadata": {},
   "outputs": [
    {
     "data": {
      "text/html": [
       "<div>\n",
       "<style scoped>\n",
       "    .dataframe tbody tr th:only-of-type {\n",
       "        vertical-align: middle;\n",
       "    }\n",
       "\n",
       "    .dataframe tbody tr th {\n",
       "        vertical-align: top;\n",
       "    }\n",
       "\n",
       "    .dataframe thead th {\n",
       "        text-align: right;\n",
       "    }\n",
       "</style>\n",
       "<table border=\"1\" class=\"dataframe\">\n",
       "  <thead>\n",
       "    <tr style=\"text-align: right;\">\n",
       "      <th></th>\n",
       "      <th>date</th>\n",
       "      <th>product_code</th>\n",
       "      <th>rest_code</th>\n",
       "      <th>product_count</th>\n",
       "    </tr>\n",
       "  </thead>\n",
       "  <tbody>\n",
       "    <tr>\n",
       "      <th>count</th>\n",
       "      <td>135920</td>\n",
       "      <td>135920.000000</td>\n",
       "      <td>135920</td>\n",
       "      <td>135920.000000</td>\n",
       "    </tr>\n",
       "    <tr>\n",
       "      <th>unique</th>\n",
       "      <td>1826</td>\n",
       "      <td>NaN</td>\n",
       "      <td>2</td>\n",
       "      <td>NaN</td>\n",
       "    </tr>\n",
       "    <tr>\n",
       "      <th>top</th>\n",
       "      <td>20.09.2012</td>\n",
       "      <td>NaN</td>\n",
       "      <td>Мечта</td>\n",
       "      <td>NaN</td>\n",
       "    </tr>\n",
       "    <tr>\n",
       "      <th>freq</th>\n",
       "      <td>101</td>\n",
       "      <td>NaN</td>\n",
       "      <td>73690</td>\n",
       "      <td>NaN</td>\n",
       "    </tr>\n",
       "    <tr>\n",
       "      <th>mean</th>\n",
       "      <td>NaN</td>\n",
       "      <td>839804.895917</td>\n",
       "      <td>NaN</td>\n",
       "      <td>11.376663</td>\n",
       "    </tr>\n",
       "    <tr>\n",
       "      <th>std</th>\n",
       "      <td>NaN</td>\n",
       "      <td>28968.345316</td>\n",
       "      <td>NaN</td>\n",
       "      <td>18.153321</td>\n",
       "    </tr>\n",
       "    <tr>\n",
       "      <th>min</th>\n",
       "      <td>NaN</td>\n",
       "      <td>821001.000000</td>\n",
       "      <td>NaN</td>\n",
       "      <td>-6.000000</td>\n",
       "    </tr>\n",
       "    <tr>\n",
       "      <th>25%</th>\n",
       "      <td>NaN</td>\n",
       "      <td>822006.000000</td>\n",
       "      <td>NaN</td>\n",
       "      <td>2.000000</td>\n",
       "    </tr>\n",
       "    <tr>\n",
       "      <th>50%</th>\n",
       "      <td>NaN</td>\n",
       "      <td>824074.000000</td>\n",
       "      <td>NaN</td>\n",
       "      <td>5.000000</td>\n",
       "    </tr>\n",
       "    <tr>\n",
       "      <th>75%</th>\n",
       "      <td>NaN</td>\n",
       "      <td>862094.000000</td>\n",
       "      <td>NaN</td>\n",
       "      <td>12.000000</td>\n",
       "    </tr>\n",
       "    <tr>\n",
       "      <th>max</th>\n",
       "      <td>NaN</td>\n",
       "      <td>894098.000000</td>\n",
       "      <td>NaN</td>\n",
       "      <td>239.000000</td>\n",
       "    </tr>\n",
       "  </tbody>\n",
       "</table>\n",
       "</div>"
      ],
      "text/plain": [
       "              date   product_code rest_code  product_count\n",
       "count       135920  135920.000000    135920  135920.000000\n",
       "unique        1826            NaN         2            NaN\n",
       "top     20.09.2012            NaN     Мечта            NaN\n",
       "freq           101            NaN     73690            NaN\n",
       "mean           NaN  839804.895917       NaN      11.376663\n",
       "std            NaN   28968.345316       NaN      18.153321\n",
       "min            NaN  821001.000000       NaN      -6.000000\n",
       "25%            NaN  822006.000000       NaN       2.000000\n",
       "50%            NaN  824074.000000       NaN       5.000000\n",
       "75%            NaN  862094.000000       NaN      12.000000\n",
       "max            NaN  894098.000000       NaN     239.000000"
      ]
     },
     "execution_count": 30,
     "metadata": {},
     "output_type": "execute_result"
    }
   ],
   "source": [
    "sales.describe(include='all')"
   ]
  },
  {
   "cell_type": "code",
   "execution_count": 31,
   "metadata": {},
   "outputs": [],
   "source": [
    "sales = sales[sales[\"product_count\"]>=0]"
   ]
  },
  {
   "cell_type": "code",
   "execution_count": 32,
   "metadata": {},
   "outputs": [
    {
     "data": {
      "text/html": [
       "<div>\n",
       "<style scoped>\n",
       "    .dataframe tbody tr th:only-of-type {\n",
       "        vertical-align: middle;\n",
       "    }\n",
       "\n",
       "    .dataframe tbody tr th {\n",
       "        vertical-align: top;\n",
       "    }\n",
       "\n",
       "    .dataframe thead th {\n",
       "        text-align: right;\n",
       "    }\n",
       "</style>\n",
       "<table border=\"1\" class=\"dataframe\">\n",
       "  <thead>\n",
       "    <tr style=\"text-align: right;\">\n",
       "      <th></th>\n",
       "      <th>date</th>\n",
       "      <th>product_code</th>\n",
       "      <th>rest_code</th>\n",
       "      <th>product_count</th>\n",
       "    </tr>\n",
       "  </thead>\n",
       "  <tbody>\n",
       "    <tr>\n",
       "      <th>count</th>\n",
       "      <td>135544</td>\n",
       "      <td>135544.000000</td>\n",
       "      <td>135544</td>\n",
       "      <td>135544.000000</td>\n",
       "    </tr>\n",
       "    <tr>\n",
       "      <th>unique</th>\n",
       "      <td>1826</td>\n",
       "      <td>NaN</td>\n",
       "      <td>2</td>\n",
       "      <td>NaN</td>\n",
       "    </tr>\n",
       "    <tr>\n",
       "      <th>top</th>\n",
       "      <td>20.09.2012</td>\n",
       "      <td>NaN</td>\n",
       "      <td>Мечта</td>\n",
       "      <td>NaN</td>\n",
       "    </tr>\n",
       "    <tr>\n",
       "      <th>freq</th>\n",
       "      <td>100</td>\n",
       "      <td>NaN</td>\n",
       "      <td>73381</td>\n",
       "      <td>NaN</td>\n",
       "    </tr>\n",
       "    <tr>\n",
       "      <th>mean</th>\n",
       "      <td>NaN</td>\n",
       "      <td>839816.331464</td>\n",
       "      <td>NaN</td>\n",
       "      <td>11.411881</td>\n",
       "    </tr>\n",
       "    <tr>\n",
       "      <th>std</th>\n",
       "      <td>NaN</td>\n",
       "      <td>28972.696099</td>\n",
       "      <td>NaN</td>\n",
       "      <td>18.166105</td>\n",
       "    </tr>\n",
       "    <tr>\n",
       "      <th>min</th>\n",
       "      <td>NaN</td>\n",
       "      <td>821001.000000</td>\n",
       "      <td>NaN</td>\n",
       "      <td>1.000000</td>\n",
       "    </tr>\n",
       "    <tr>\n",
       "      <th>25%</th>\n",
       "      <td>NaN</td>\n",
       "      <td>822006.000000</td>\n",
       "      <td>NaN</td>\n",
       "      <td>2.000000</td>\n",
       "    </tr>\n",
       "    <tr>\n",
       "      <th>50%</th>\n",
       "      <td>NaN</td>\n",
       "      <td>824074.000000</td>\n",
       "      <td>NaN</td>\n",
       "      <td>5.000000</td>\n",
       "    </tr>\n",
       "    <tr>\n",
       "      <th>75%</th>\n",
       "      <td>NaN</td>\n",
       "      <td>862094.000000</td>\n",
       "      <td>NaN</td>\n",
       "      <td>12.000000</td>\n",
       "    </tr>\n",
       "    <tr>\n",
       "      <th>max</th>\n",
       "      <td>NaN</td>\n",
       "      <td>894098.000000</td>\n",
       "      <td>NaN</td>\n",
       "      <td>239.000000</td>\n",
       "    </tr>\n",
       "  </tbody>\n",
       "</table>\n",
       "</div>"
      ],
      "text/plain": [
       "              date   product_code rest_code  product_count\n",
       "count       135544  135544.000000    135544  135544.000000\n",
       "unique        1826            NaN         2            NaN\n",
       "top     20.09.2012            NaN     Мечта            NaN\n",
       "freq           100            NaN     73381            NaN\n",
       "mean           NaN  839816.331464       NaN      11.411881\n",
       "std            NaN   28972.696099       NaN      18.166105\n",
       "min            NaN  821001.000000       NaN       1.000000\n",
       "25%            NaN  822006.000000       NaN       2.000000\n",
       "50%            NaN  824074.000000       NaN       5.000000\n",
       "75%            NaN  862094.000000       NaN      12.000000\n",
       "max            NaN  894098.000000       NaN     239.000000"
      ]
     },
     "execution_count": 32,
     "metadata": {},
     "output_type": "execute_result"
    }
   ],
   "source": [
    "sales.describe(include='all')"
   ]
  },
  {
   "cell_type": "code",
   "execution_count": 33,
   "metadata": {},
   "outputs": [],
   "source": [
    "sales = sales.join(df, on='product_code', how='left')\n"
   ]
  },
  {
   "cell_type": "code",
   "execution_count": 34,
   "metadata": {},
   "outputs": [
    {
     "data": {
      "text/html": [
       "<div>\n",
       "<style scoped>\n",
       "    .dataframe tbody tr th:only-of-type {\n",
       "        vertical-align: middle;\n",
       "    }\n",
       "\n",
       "    .dataframe tbody tr th {\n",
       "        vertical-align: top;\n",
       "    }\n",
       "\n",
       "    .dataframe thead th {\n",
       "        text-align: right;\n",
       "    }\n",
       "</style>\n",
       "<table border=\"1\" class=\"dataframe\">\n",
       "  <thead>\n",
       "    <tr style=\"text-align: right;\">\n",
       "      <th></th>\n",
       "      <th>date</th>\n",
       "      <th>product_code</th>\n",
       "      <th>rest_code</th>\n",
       "      <th>product_count</th>\n",
       "      <th>Product_name</th>\n",
       "    </tr>\n",
       "  </thead>\n",
       "  <tbody>\n",
       "    <tr>\n",
       "      <th>count</th>\n",
       "      <td>135544</td>\n",
       "      <td>135544.000000</td>\n",
       "      <td>135544</td>\n",
       "      <td>135544.000000</td>\n",
       "      <td>135544</td>\n",
       "    </tr>\n",
       "    <tr>\n",
       "      <th>unique</th>\n",
       "      <td>1826</td>\n",
       "      <td>NaN</td>\n",
       "      <td>2</td>\n",
       "      <td>NaN</td>\n",
       "      <td>110</td>\n",
       "    </tr>\n",
       "    <tr>\n",
       "      <th>top</th>\n",
       "      <td>20.09.2012</td>\n",
       "      <td>NaN</td>\n",
       "      <td>Мечта</td>\n",
       "      <td>NaN</td>\n",
       "      <td>Кофе Латте 300мл</td>\n",
       "    </tr>\n",
       "    <tr>\n",
       "      <th>freq</th>\n",
       "      <td>100</td>\n",
       "      <td>NaN</td>\n",
       "      <td>73381</td>\n",
       "      <td>NaN</td>\n",
       "      <td>6623</td>\n",
       "    </tr>\n",
       "    <tr>\n",
       "      <th>mean</th>\n",
       "      <td>NaN</td>\n",
       "      <td>839816.331464</td>\n",
       "      <td>NaN</td>\n",
       "      <td>11.411881</td>\n",
       "      <td>NaN</td>\n",
       "    </tr>\n",
       "    <tr>\n",
       "      <th>std</th>\n",
       "      <td>NaN</td>\n",
       "      <td>28972.696099</td>\n",
       "      <td>NaN</td>\n",
       "      <td>18.166105</td>\n",
       "      <td>NaN</td>\n",
       "    </tr>\n",
       "    <tr>\n",
       "      <th>min</th>\n",
       "      <td>NaN</td>\n",
       "      <td>821001.000000</td>\n",
       "      <td>NaN</td>\n",
       "      <td>1.000000</td>\n",
       "      <td>NaN</td>\n",
       "    </tr>\n",
       "    <tr>\n",
       "      <th>25%</th>\n",
       "      <td>NaN</td>\n",
       "      <td>822006.000000</td>\n",
       "      <td>NaN</td>\n",
       "      <td>2.000000</td>\n",
       "      <td>NaN</td>\n",
       "    </tr>\n",
       "    <tr>\n",
       "      <th>50%</th>\n",
       "      <td>NaN</td>\n",
       "      <td>824074.000000</td>\n",
       "      <td>NaN</td>\n",
       "      <td>5.000000</td>\n",
       "      <td>NaN</td>\n",
       "    </tr>\n",
       "    <tr>\n",
       "      <th>75%</th>\n",
       "      <td>NaN</td>\n",
       "      <td>862094.000000</td>\n",
       "      <td>NaN</td>\n",
       "      <td>12.000000</td>\n",
       "      <td>NaN</td>\n",
       "    </tr>\n",
       "    <tr>\n",
       "      <th>max</th>\n",
       "      <td>NaN</td>\n",
       "      <td>894098.000000</td>\n",
       "      <td>NaN</td>\n",
       "      <td>239.000000</td>\n",
       "      <td>NaN</td>\n",
       "    </tr>\n",
       "  </tbody>\n",
       "</table>\n",
       "</div>"
      ],
      "text/plain": [
       "              date   product_code rest_code  product_count      Product_name\n",
       "count       135544  135544.000000    135544  135544.000000            135544\n",
       "unique        1826            NaN         2            NaN               110\n",
       "top     20.09.2012            NaN     Мечта            NaN  Кофе Латте 300мл\n",
       "freq           100            NaN     73381            NaN              6623\n",
       "mean           NaN  839816.331464       NaN      11.411881               NaN\n",
       "std            NaN   28972.696099       NaN      18.166105               NaN\n",
       "min            NaN  821001.000000       NaN       1.000000               NaN\n",
       "25%            NaN  822006.000000       NaN       2.000000               NaN\n",
       "50%            NaN  824074.000000       NaN       5.000000               NaN\n",
       "75%            NaN  862094.000000       NaN      12.000000               NaN\n",
       "max            NaN  894098.000000       NaN     239.000000               NaN"
      ]
     },
     "execution_count": 34,
     "metadata": {},
     "output_type": "execute_result"
    }
   ],
   "source": [
    "sales.describe(include='all')"
   ]
  },
  {
   "cell_type": "code",
   "execution_count": 35,
   "metadata": {},
   "outputs": [
    {
     "data": {
      "text/plain": [
       "Text(0.5, 0.98, '')"
      ]
     },
     "execution_count": 35,
     "metadata": {},
     "output_type": "execute_result"
    },
    {
     "data": {
      "image/png": "[encoded data removed]",
      "text/plain": [
       "<Figure size 432x288 with 1 Axes>"
      ]
     },
     "metadata": {
      "needs_background": "light"
     },
     "output_type": "display_data"
    }
   ],
   "source": [
    "ax = sales.boxplot(column='product_count', by='rest_code')\n",
    "ax.get_figure().suptitle('')"
   ]
  },
  {
   "cell_type": "code",
   "execution_count": 46,
   "metadata": {},
   "outputs": [
    {
     "data": {
      "text/plain": [
       "rest_code\n",
       "Мечта      AxesSubplot(0.125,0.125;0.775x0.755)\n",
       "Озерный    AxesSubplot(0.125,0.125;0.775x0.755)\n",
       "Name: product_count, dtype: object"
      ]
     },
     "execution_count": 46,
     "metadata": {},
     "output_type": "execute_result"
    },
    {
     "data": {
      "image/png": "[encoded data removed]",
      "text/plain": [
       "<Figure size 432x288 with 1 Axes>"
      ]
     },
     "metadata": {
      "needs_background": "light"
     },
     "output_type": "display_data"
    }
   ],
   "source": [
    "sales.groupby('rest_code')['product_count'].plot.hist(alpha=0.6)"
   ]
  },
  {
   "cell_type": "markdown",
   "metadata": {},
   "source": [
    "## Кофе анализ"
   ]
  },
  {
   "cell_type": "code",
   "execution_count": 36,
   "metadata": {},
   "outputs": [],
   "source": [
    "coffeeTab = sales.loc[sales['Product_name'].str.contains('Кофе')]\n",
    "coffeelist = ['кофе ', \"Эспрессо\", \"Френч пресс\", \"Френс пресс\", \"Френч Пресс\", \"Фильтр\"]\n",
    "for cofees in coffeelist:\n",
    "    temp = sales.loc[sales['Product_name'].str.contains(f'{cofees}')]\n",
    "    coffeeTab = coffeeTab.append(temp)"
   ]
  },
  {
   "cell_type": "code",
   "execution_count": 37,
   "metadata": {},
   "outputs": [
    {
     "data": {
      "text/html": [
       "<div>\n",
       "<style scoped>\n",
       "    .dataframe tbody tr th:only-of-type {\n",
       "        vertical-align: middle;\n",
       "    }\n",
       "\n",
       "    .dataframe tbody tr th {\n",
       "        vertical-align: top;\n",
       "    }\n",
       "\n",
       "    .dataframe thead th {\n",
       "        text-align: right;\n",
       "    }\n",
       "</style>\n",
       "<table border=\"1\" class=\"dataframe\">\n",
       "  <thead>\n",
       "    <tr style=\"text-align: right;\">\n",
       "      <th></th>\n",
       "      <th>date</th>\n",
       "      <th>product_code</th>\n",
       "      <th>rest_code</th>\n",
       "      <th>product_count</th>\n",
       "      <th>Product_name</th>\n",
       "    </tr>\n",
       "  </thead>\n",
       "  <tbody>\n",
       "    <tr>\n",
       "      <th>50454</th>\n",
       "      <td>06.01.2009</td>\n",
       "      <td>821001</td>\n",
       "      <td>Озерный</td>\n",
       "      <td>7</td>\n",
       "      <td>Кофе ЭСПРЕССО  30 мл</td>\n",
       "    </tr>\n",
       "    <tr>\n",
       "      <th>50455</th>\n",
       "      <td>06.01.2009</td>\n",
       "      <td>821002</td>\n",
       "      <td>Озерный</td>\n",
       "      <td>4</td>\n",
       "      <td>Кофе ДОППИО 60мл</td>\n",
       "    </tr>\n",
       "    <tr>\n",
       "      <th>50456</th>\n",
       "      <td>06.01.2009</td>\n",
       "      <td>821005</td>\n",
       "      <td>Озерный</td>\n",
       "      <td>2</td>\n",
       "      <td>Кофе ЛУНГО  50 мл</td>\n",
       "    </tr>\n",
       "    <tr>\n",
       "      <th>50457</th>\n",
       "      <td>06.01.2009</td>\n",
       "      <td>821012</td>\n",
       "      <td>Озерный</td>\n",
       "      <td>8</td>\n",
       "      <td>Кофе АМЕРИКАНО 90мл</td>\n",
       "    </tr>\n",
       "    <tr>\n",
       "      <th>50458</th>\n",
       "      <td>06.01.2009</td>\n",
       "      <td>821170</td>\n",
       "      <td>Озерный</td>\n",
       "      <td>2</td>\n",
       "      <td>Айриш Кофе  150мл</td>\n",
       "    </tr>\n",
       "    <tr>\n",
       "      <th>...</th>\n",
       "      <td>...</td>\n",
       "      <td>...</td>\n",
       "      <td>...</td>\n",
       "      <td>...</td>\n",
       "      <td>...</td>\n",
       "    </tr>\n",
       "    <tr>\n",
       "      <th>84290</th>\n",
       "      <td>15.07.2010</td>\n",
       "      <td>821281</td>\n",
       "      <td>Мечта</td>\n",
       "      <td>22</td>\n",
       "      <td>Фильтр кофе 230мл</td>\n",
       "    </tr>\n",
       "    <tr>\n",
       "      <th>84307</th>\n",
       "      <td>16.07.2010</td>\n",
       "      <td>821214</td>\n",
       "      <td>Мечта</td>\n",
       "      <td>1</td>\n",
       "      <td>Фильтр-кофе с собой 300мл</td>\n",
       "    </tr>\n",
       "    <tr>\n",
       "      <th>84309</th>\n",
       "      <td>16.07.2010</td>\n",
       "      <td>821281</td>\n",
       "      <td>Мечта</td>\n",
       "      <td>17</td>\n",
       "      <td>Фильтр кофе 230мл</td>\n",
       "    </tr>\n",
       "    <tr>\n",
       "      <th>84325</th>\n",
       "      <td>17.07.2010</td>\n",
       "      <td>821214</td>\n",
       "      <td>Мечта</td>\n",
       "      <td>1</td>\n",
       "      <td>Фильтр-кофе с собой 300мл</td>\n",
       "    </tr>\n",
       "    <tr>\n",
       "      <th>84327</th>\n",
       "      <td>17.07.2010</td>\n",
       "      <td>821281</td>\n",
       "      <td>Мечта</td>\n",
       "      <td>2</td>\n",
       "      <td>Фильтр кофе 230мл</td>\n",
       "    </tr>\n",
       "  </tbody>\n",
       "</table>\n",
       "<p>54243 rows × 5 columns</p>\n",
       "</div>"
      ],
      "text/plain": [
       "             date  product_code rest_code  product_count  \\\n",
       "50454  06.01.2009        821001   Озерный              7   \n",
       "50455  06.01.2009        821002   Озерный              4   \n",
       "50456  06.01.2009        821005   Озерный              2   \n",
       "50457  06.01.2009        821012   Озерный              8   \n",
       "50458  06.01.2009        821170   Озерный              2   \n",
       "...           ...           ...       ...            ...   \n",
       "84290  15.07.2010        821281     Мечта             22   \n",
       "84307  16.07.2010        821214     Мечта              1   \n",
       "84309  16.07.2010        821281     Мечта             17   \n",
       "84325  17.07.2010        821214     Мечта              1   \n",
       "84327  17.07.2010        821281     Мечта              2   \n",
       "\n",
       "                    Product_name  \n",
       "50454       Кофе ЭСПРЕССО  30 мл  \n",
       "50455           Кофе ДОППИО 60мл  \n",
       "50456          Кофе ЛУНГО  50 мл  \n",
       "50457        Кофе АМЕРИКАНО 90мл  \n",
       "50458          Айриш Кофе  150мл  \n",
       "...                          ...  \n",
       "84290          Фильтр кофе 230мл  \n",
       "84307  Фильтр-кофе с собой 300мл  \n",
       "84309          Фильтр кофе 230мл  \n",
       "84325  Фильтр-кофе с собой 300мл  \n",
       "84327          Фильтр кофе 230мл  \n",
       "\n",
       "[54243 rows x 5 columns]"
      ]
     },
     "execution_count": 37,
     "metadata": {},
     "output_type": "execute_result"
    }
   ],
   "source": [
    "coffeeTab"
   ]
  },
  {
   "cell_type": "code",
   "execution_count": 38,
   "metadata": {},
   "outputs": [
    {
     "data": {
      "text/plain": [
       "Text(0.5, 0.98, '')"
      ]
     },
     "execution_count": 38,
     "metadata": {},
     "output_type": "execute_result"
    },
    {
     "data": {
      "image/png": "[encoded data removed]",
      "text/plain": [
       "<Figure size 432x288 with 1 Axes>"
      ]
     },
     "metadata": {
      "needs_background": "light"
     },
     "output_type": "display_data"
    }
   ],
   "source": [
    "ay = coffeeTab.boxplot(column='product_count', by='rest_code')\n",
    "ay.get_figure().suptitle('')"
   ]
  },
  {
   "cell_type": "code",
   "execution_count": 39,
   "metadata": {},
   "outputs": [
    {
     "data": {
      "image/png": "[encoded data removed]",
      "text/plain": [
       "<Figure size 432x288 with 1 Axes>"
      ]
     },
     "metadata": {
      "needs_background": "light"
     },
     "output_type": "display_data"
    }
   ],
   "source": [
    "coffeeTab.groupby('rest_code')['product_count'].plot.hist(alpha=0.6)\n",
    "# Добавляем легенду\n",
    "plt.legend();"
   ]
  },
  {
   "cell_type": "code",
   "execution_count": 47,
   "metadata": {},
   "outputs": [
    {
     "data": {
      "text/plain": [
       "rest_code\n",
       "Мечта      AxesSubplot(0.125,0.125;0.775x0.755)\n",
       "Озерный    AxesSubplot(0.125,0.125;0.775x0.755)\n",
       "Name: product_count, dtype: object"
      ]
     },
     "execution_count": 47,
     "metadata": {},
     "output_type": "execute_result"
    },
    {
     "data": {
      "image/png": "[encoded data removed]",
      "text/plain": [
       "<Figure size 432x288 with 1 Axes>"
      ]
     },
     "metadata": {
      "needs_background": "light"
     },
     "output_type": "display_data"
    }
   ],
   "source": [
    "sales.groupby('rest_code')['product_count'].plot.hist(alpha=0.6)"
   ]
  },
  {
   "cell_type": "markdown",
   "metadata": {},
   "source": [
    "## Ozerniy restaraunt"
   ]
  },
  {
   "cell_type": "code",
   "execution_count": 40,
   "metadata": {},
   "outputs": [],
   "source": [
    "restOz = sales[sales[\"rest_code\"].str.contains(\"Озерный\")]"
   ]
  },
  {
   "cell_type": "code",
   "execution_count": 41,
   "metadata": {},
   "outputs": [
    {
     "data": {
      "text/html": [
       "<div>\n",
       "<style scoped>\n",
       "    .dataframe tbody tr th:only-of-type {\n",
       "        vertical-align: middle;\n",
       "    }\n",
       "\n",
       "    .dataframe tbody tr th {\n",
       "        vertical-align: top;\n",
       "    }\n",
       "\n",
       "    .dataframe thead th {\n",
       "        text-align: right;\n",
       "    }\n",
       "</style>\n",
       "<table border=\"1\" class=\"dataframe\">\n",
       "  <thead>\n",
       "    <tr style=\"text-align: right;\">\n",
       "      <th></th>\n",
       "      <th>date</th>\n",
       "      <th>product_code</th>\n",
       "      <th>rest_code</th>\n",
       "      <th>product_count</th>\n",
       "      <th>Product_name</th>\n",
       "    </tr>\n",
       "  </thead>\n",
       "  <tbody>\n",
       "    <tr>\n",
       "      <th>count</th>\n",
       "      <td>62163</td>\n",
       "      <td>62163.000000</td>\n",
       "      <td>62163</td>\n",
       "      <td>62163.000000</td>\n",
       "      <td>62163</td>\n",
       "    </tr>\n",
       "    <tr>\n",
       "      <th>unique</th>\n",
       "      <td>1818</td>\n",
       "      <td>NaN</td>\n",
       "      <td>1</td>\n",
       "      <td>NaN</td>\n",
       "      <td>107</td>\n",
       "    </tr>\n",
       "    <tr>\n",
       "      <th>top</th>\n",
       "      <td>15.11.2012</td>\n",
       "      <td>NaN</td>\n",
       "      <td>Озерный</td>\n",
       "      <td>NaN</td>\n",
       "      <td>Кофе Латте 300мл</td>\n",
       "    </tr>\n",
       "    <tr>\n",
       "      <th>freq</th>\n",
       "      <td>45</td>\n",
       "      <td>NaN</td>\n",
       "      <td>62163</td>\n",
       "      <td>NaN</td>\n",
       "      <td>3314</td>\n",
       "    </tr>\n",
       "    <tr>\n",
       "      <th>mean</th>\n",
       "      <td>NaN</td>\n",
       "      <td>840371.617795</td>\n",
       "      <td>NaN</td>\n",
       "      <td>4.696685</td>\n",
       "      <td>NaN</td>\n",
       "    </tr>\n",
       "    <tr>\n",
       "      <th>std</th>\n",
       "      <td>NaN</td>\n",
       "      <td>29358.049825</td>\n",
       "      <td>NaN</td>\n",
       "      <td>5.677386</td>\n",
       "      <td>NaN</td>\n",
       "    </tr>\n",
       "    <tr>\n",
       "      <th>min</th>\n",
       "      <td>NaN</td>\n",
       "      <td>821001.000000</td>\n",
       "      <td>NaN</td>\n",
       "      <td>1.000000</td>\n",
       "      <td>NaN</td>\n",
       "    </tr>\n",
       "    <tr>\n",
       "      <th>25%</th>\n",
       "      <td>NaN</td>\n",
       "      <td>822006.000000</td>\n",
       "      <td>NaN</td>\n",
       "      <td>1.000000</td>\n",
       "      <td>NaN</td>\n",
       "    </tr>\n",
       "    <tr>\n",
       "      <th>50%</th>\n",
       "      <td>NaN</td>\n",
       "      <td>824074.000000</td>\n",
       "      <td>NaN</td>\n",
       "      <td>3.000000</td>\n",
       "      <td>NaN</td>\n",
       "    </tr>\n",
       "    <tr>\n",
       "      <th>75%</th>\n",
       "      <td>NaN</td>\n",
       "      <td>862095.000000</td>\n",
       "      <td>NaN</td>\n",
       "      <td>5.000000</td>\n",
       "      <td>NaN</td>\n",
       "    </tr>\n",
       "    <tr>\n",
       "      <th>max</th>\n",
       "      <td>NaN</td>\n",
       "      <td>894098.000000</td>\n",
       "      <td>NaN</td>\n",
       "      <td>67.000000</td>\n",
       "      <td>NaN</td>\n",
       "    </tr>\n",
       "  </tbody>\n",
       "</table>\n",
       "</div>"
      ],
      "text/plain": [
       "              date   product_code rest_code  product_count      Product_name\n",
       "count        62163   62163.000000     62163   62163.000000             62163\n",
       "unique        1818            NaN         1            NaN               107\n",
       "top     15.11.2012            NaN   Озерный            NaN  Кофе Латте 300мл\n",
       "freq            45            NaN     62163            NaN              3314\n",
       "mean           NaN  840371.617795       NaN       4.696685               NaN\n",
       "std            NaN   29358.049825       NaN       5.677386               NaN\n",
       "min            NaN  821001.000000       NaN       1.000000               NaN\n",
       "25%            NaN  822006.000000       NaN       1.000000               NaN\n",
       "50%            NaN  824074.000000       NaN       3.000000               NaN\n",
       "75%            NaN  862095.000000       NaN       5.000000               NaN\n",
       "max            NaN  894098.000000       NaN      67.000000               NaN"
      ]
     },
     "execution_count": 41,
     "metadata": {},
     "output_type": "execute_result"
    }
   ],
   "source": [
    "restOz.describe(include='all')"
   ]
  },
  {
   "cell_type": "code",
   "execution_count": 42,
   "metadata": {},
   "outputs": [
    {
     "data": {
      "image/png": "[encoded data removed]",
      "text/plain": [
       "<Figure size 1440x720 with 1 Axes>"
      ]
     },
     "metadata": {
      "needs_background": "light"
     },
     "output_type": "display_data"
    }
   ],
   "source": [
    "plt.figure(figsize=(20,10))\n",
    "plt.xticks(np.arange(0,70,1))\n",
    "restOz['product_count'].hist(bins=160);"
   ]
  },
  {
   "cell_type": "code",
   "execution_count": null,
   "metadata": {},
   "outputs": [],
   "source": []
  },
  {
   "cell_type": "markdown",
   "metadata": {},
   "source": [
    "## Mechta restaraunt"
   ]
  },
  {
   "cell_type": "code",
   "execution_count": 43,
   "metadata": {},
   "outputs": [],
   "source": [
    "restM = sales[sales[\"rest_code\"].str.contains(\"Мечта\")]"
   ]
  },
  {
   "cell_type": "code",
   "execution_count": 44,
   "metadata": {},
   "outputs": [
    {
     "data": {
      "text/html": [
       "<div>\n",
       "<style scoped>\n",
       "    .dataframe tbody tr th:only-of-type {\n",
       "        vertical-align: middle;\n",
       "    }\n",
       "\n",
       "    .dataframe tbody tr th {\n",
       "        vertical-align: top;\n",
       "    }\n",
       "\n",
       "    .dataframe thead th {\n",
       "        text-align: right;\n",
       "    }\n",
       "</style>\n",
       "<table border=\"1\" class=\"dataframe\">\n",
       "  <thead>\n",
       "    <tr style=\"text-align: right;\">\n",
       "      <th></th>\n",
       "      <th>date</th>\n",
       "      <th>product_code</th>\n",
       "      <th>rest_code</th>\n",
       "      <th>product_count</th>\n",
       "      <th>Product_name</th>\n",
       "    </tr>\n",
       "  </thead>\n",
       "  <tbody>\n",
       "    <tr>\n",
       "      <th>count</th>\n",
       "      <td>73381</td>\n",
       "      <td>73381.000000</td>\n",
       "      <td>73381</td>\n",
       "      <td>73381.000000</td>\n",
       "      <td>73381</td>\n",
       "    </tr>\n",
       "    <tr>\n",
       "      <th>unique</th>\n",
       "      <td>1659</td>\n",
       "      <td>NaN</td>\n",
       "      <td>1</td>\n",
       "      <td>NaN</td>\n",
       "      <td>106</td>\n",
       "    </tr>\n",
       "    <tr>\n",
       "      <th>top</th>\n",
       "      <td>20.09.2012</td>\n",
       "      <td>NaN</td>\n",
       "      <td>Мечта</td>\n",
       "      <td>NaN</td>\n",
       "      <td>Кофе Латте 300мл</td>\n",
       "    </tr>\n",
       "    <tr>\n",
       "      <th>freq</th>\n",
       "      <td>61</td>\n",
       "      <td>NaN</td>\n",
       "      <td>73381</td>\n",
       "      <td>NaN</td>\n",
       "      <td>3309</td>\n",
       "    </tr>\n",
       "    <tr>\n",
       "      <th>mean</th>\n",
       "      <td>NaN</td>\n",
       "      <td>839345.933620</td>\n",
       "      <td>NaN</td>\n",
       "      <td>17.100503</td>\n",
       "      <td>NaN</td>\n",
       "    </tr>\n",
       "    <tr>\n",
       "      <th>std</th>\n",
       "      <td>NaN</td>\n",
       "      <td>28633.973385</td>\n",
       "      <td>NaN</td>\n",
       "      <td>22.620842</td>\n",
       "      <td>NaN</td>\n",
       "    </tr>\n",
       "    <tr>\n",
       "      <th>min</th>\n",
       "      <td>NaN</td>\n",
       "      <td>821001.000000</td>\n",
       "      <td>NaN</td>\n",
       "      <td>1.000000</td>\n",
       "      <td>NaN</td>\n",
       "    </tr>\n",
       "    <tr>\n",
       "      <th>25%</th>\n",
       "      <td>NaN</td>\n",
       "      <td>822006.000000</td>\n",
       "      <td>NaN</td>\n",
       "      <td>4.000000</td>\n",
       "      <td>NaN</td>\n",
       "    </tr>\n",
       "    <tr>\n",
       "      <th>50%</th>\n",
       "      <td>NaN</td>\n",
       "      <td>824074.000000</td>\n",
       "      <td>NaN</td>\n",
       "      <td>9.000000</td>\n",
       "      <td>NaN</td>\n",
       "    </tr>\n",
       "    <tr>\n",
       "      <th>75%</th>\n",
       "      <td>NaN</td>\n",
       "      <td>862094.000000</td>\n",
       "      <td>NaN</td>\n",
       "      <td>19.000000</td>\n",
       "      <td>NaN</td>\n",
       "    </tr>\n",
       "    <tr>\n",
       "      <th>max</th>\n",
       "      <td>NaN</td>\n",
       "      <td>894098.000000</td>\n",
       "      <td>NaN</td>\n",
       "      <td>239.000000</td>\n",
       "      <td>NaN</td>\n",
       "    </tr>\n",
       "  </tbody>\n",
       "</table>\n",
       "</div>"
      ],
      "text/plain": [
       "              date   product_code rest_code  product_count      Product_name\n",
       "count        73381   73381.000000     73381   73381.000000             73381\n",
       "unique        1659            NaN         1            NaN               106\n",
       "top     20.09.2012            NaN     Мечта            NaN  Кофе Латте 300мл\n",
       "freq            61            NaN     73381            NaN              3309\n",
       "mean           NaN  839345.933620       NaN      17.100503               NaN\n",
       "std            NaN   28633.973385       NaN      22.620842               NaN\n",
       "min            NaN  821001.000000       NaN       1.000000               NaN\n",
       "25%            NaN  822006.000000       NaN       4.000000               NaN\n",
       "50%            NaN  824074.000000       NaN       9.000000               NaN\n",
       "75%            NaN  862094.000000       NaN      19.000000               NaN\n",
       "max            NaN  894098.000000       NaN     239.000000               NaN"
      ]
     },
     "execution_count": 44,
     "metadata": {},
     "output_type": "execute_result"
    }
   ],
   "source": [
    "restM.describe(include='all')"
   ]
  },
  {
   "cell_type": "code",
   "execution_count": 45,
   "metadata": {},
   "outputs": [
    {
     "data": {
      "image/png": "[encoded data removed]",
      "text/plain": [
       "<Figure size 1440x720 with 1 Axes>"
      ]
     },
     "metadata": {
      "needs_background": "light"
     },
     "output_type": "display_data"
    }
   ],
   "source": [
    "plt.figure(figsize=(20,10))\n",
    "restM['product_count'].hist(bins=60);"
   ]
  },
  {
   "cell_type": "code",
   "execution_count": null,
   "metadata": {},
   "outputs": [],
   "source": []
  }
 ],
 "metadata": {
  "kernelspec": {
   "display_name": "Python 3",
   "language": "python",
   "name": "python3"
  },
  "language_info": {
   "codemirror_mode": {
    "name": "ipython",
    "version": 3
   },
   "file_extension": ".py",
   "mimetype": "text/x-python",
   "name": "python",
   "nbconvert_exporter": "python",
   "pygments_lexer": "ipython3",
   "version": "3.8.3"
  },
  "toc": {
   "base_numbering": 1,
   "nav_menu": {},
   "number_sections": true,
   "sideBar": true,
   "skip_h1_title": false,
   "title_cell": "Table of Contents",
   "title_sidebar": "Contents",
   "toc_cell": false,
   "toc_position": {
    "height": "calc(100% - 180px)",
    "left": "10px",
    "top": "150px",
    "width": "165px"
   },
   "toc_section_display": true,
   "toc_window_display": false
  }
 },
 "nbformat": 4,
 "nbformat_minor": 4
}
