{
 "cells": [
  {
   "cell_type": "code",
   "execution_count": 1,
   "metadata": {},
   "outputs": [],
   "source": [
    "import pandas as pd\n",
    "import numpy as np\n",
    "import matplotlib\n",
    "import matplotlib.pyplot as plt\n",
    "from scipy import stats\n",
    "matplotlib.style.use('ggplot')\n",
    "%matplotlib inline"
   ]
  },
  {
   "cell_type": "code",
   "execution_count": 2,
   "metadata": {},
   "outputs": [],
   "source": [
    "df = pd.read_csv('avocado.csv')"
   ]
  },
  {
   "cell_type": "code",
   "execution_count": 3,
   "metadata": {},
   "outputs": [],
   "source": [
    "df = df.rename(columns={'Unnamed: 0': 'number'})\n",
    "df = df.set_index('number')"
   ]
  },
  {
   "cell_type": "code",
   "execution_count": 4,
   "metadata": {
    "scrolled": true
   },
   "outputs": [
    {
     "data": {
      "text/html": [
       "<div>\n",
       "<style scoped>\n",
       "    .dataframe tbody tr th:only-of-type {\n",
       "        vertical-align: middle;\n",
       "    }\n",
       "\n",
       "    .dataframe tbody tr th {\n",
       "        vertical-align: top;\n",
       "    }\n",
       "\n",
       "    .dataframe thead th {\n",
       "        text-align: right;\n",
       "    }\n",
       "</style>\n",
       "<table border=\"1\" class=\"dataframe\">\n",
       "  <thead>\n",
       "    <tr style=\"text-align: right;\">\n",
       "      <th></th>\n",
       "      <th>Date</th>\n",
       "      <th>AveragePrice</th>\n",
       "      <th>Total Volume</th>\n",
       "      <th>4046</th>\n",
       "      <th>4225</th>\n",
       "      <th>4770</th>\n",
       "      <th>Total Bags</th>\n",
       "      <th>Small Bags</th>\n",
       "      <th>Large Bags</th>\n",
       "      <th>XLarge Bags</th>\n",
       "      <th>type</th>\n",
       "      <th>year</th>\n",
       "      <th>region</th>\n",
       "    </tr>\n",
       "    <tr>\n",
       "      <th>number</th>\n",
       "      <th></th>\n",
       "      <th></th>\n",
       "      <th></th>\n",
       "      <th></th>\n",
       "      <th></th>\n",
       "      <th></th>\n",
       "      <th></th>\n",
       "      <th></th>\n",
       "      <th></th>\n",
       "      <th></th>\n",
       "      <th></th>\n",
       "      <th></th>\n",
       "      <th></th>\n",
       "    </tr>\n",
       "  </thead>\n",
       "  <tbody>\n",
       "    <tr>\n",
       "      <th>0</th>\n",
       "      <td>2015-12-27</td>\n",
       "      <td>1.33</td>\n",
       "      <td>64236.62</td>\n",
       "      <td>1036.74</td>\n",
       "      <td>54454.85</td>\n",
       "      <td>48.16</td>\n",
       "      <td>8696.87</td>\n",
       "      <td>8603.62</td>\n",
       "      <td>93.25</td>\n",
       "      <td>0.0</td>\n",
       "      <td>conventional</td>\n",
       "      <td>2015</td>\n",
       "      <td>Albany</td>\n",
       "    </tr>\n",
       "    <tr>\n",
       "      <th>1</th>\n",
       "      <td>2015-12-20</td>\n",
       "      <td>1.35</td>\n",
       "      <td>54876.98</td>\n",
       "      <td>674.28</td>\n",
       "      <td>44638.81</td>\n",
       "      <td>58.33</td>\n",
       "      <td>9505.56</td>\n",
       "      <td>9408.07</td>\n",
       "      <td>97.49</td>\n",
       "      <td>0.0</td>\n",
       "      <td>conventional</td>\n",
       "      <td>2015</td>\n",
       "      <td>Albany</td>\n",
       "    </tr>\n",
       "    <tr>\n",
       "      <th>2</th>\n",
       "      <td>2015-12-13</td>\n",
       "      <td>0.93</td>\n",
       "      <td>118220.22</td>\n",
       "      <td>794.70</td>\n",
       "      <td>109149.67</td>\n",
       "      <td>130.50</td>\n",
       "      <td>8145.35</td>\n",
       "      <td>8042.21</td>\n",
       "      <td>103.14</td>\n",
       "      <td>0.0</td>\n",
       "      <td>conventional</td>\n",
       "      <td>2015</td>\n",
       "      <td>Albany</td>\n",
       "    </tr>\n",
       "    <tr>\n",
       "      <th>3</th>\n",
       "      <td>2015-12-06</td>\n",
       "      <td>1.08</td>\n",
       "      <td>78992.15</td>\n",
       "      <td>1132.00</td>\n",
       "      <td>71976.41</td>\n",
       "      <td>72.58</td>\n",
       "      <td>5811.16</td>\n",
       "      <td>5677.40</td>\n",
       "      <td>133.76</td>\n",
       "      <td>0.0</td>\n",
       "      <td>conventional</td>\n",
       "      <td>2015</td>\n",
       "      <td>Albany</td>\n",
       "    </tr>\n",
       "    <tr>\n",
       "      <th>4</th>\n",
       "      <td>2015-11-29</td>\n",
       "      <td>1.28</td>\n",
       "      <td>51039.60</td>\n",
       "      <td>941.48</td>\n",
       "      <td>43838.39</td>\n",
       "      <td>75.78</td>\n",
       "      <td>6183.95</td>\n",
       "      <td>5986.26</td>\n",
       "      <td>197.69</td>\n",
       "      <td>0.0</td>\n",
       "      <td>conventional</td>\n",
       "      <td>2015</td>\n",
       "      <td>Albany</td>\n",
       "    </tr>\n",
       "    <tr>\n",
       "      <th>...</th>\n",
       "      <td>...</td>\n",
       "      <td>...</td>\n",
       "      <td>...</td>\n",
       "      <td>...</td>\n",
       "      <td>...</td>\n",
       "      <td>...</td>\n",
       "      <td>...</td>\n",
       "      <td>...</td>\n",
       "      <td>...</td>\n",
       "      <td>...</td>\n",
       "      <td>...</td>\n",
       "      <td>...</td>\n",
       "      <td>...</td>\n",
       "    </tr>\n",
       "    <tr>\n",
       "      <th>7</th>\n",
       "      <td>2018-02-04</td>\n",
       "      <td>1.63</td>\n",
       "      <td>17074.83</td>\n",
       "      <td>2046.96</td>\n",
       "      <td>1529.20</td>\n",
       "      <td>0.00</td>\n",
       "      <td>13498.67</td>\n",
       "      <td>13066.82</td>\n",
       "      <td>431.85</td>\n",
       "      <td>0.0</td>\n",
       "      <td>organic</td>\n",
       "      <td>2018</td>\n",
       "      <td>WestTexNewMexico</td>\n",
       "    </tr>\n",
       "    <tr>\n",
       "      <th>8</th>\n",
       "      <td>2018-01-28</td>\n",
       "      <td>1.71</td>\n",
       "      <td>13888.04</td>\n",
       "      <td>1191.70</td>\n",
       "      <td>3431.50</td>\n",
       "      <td>0.00</td>\n",
       "      <td>9264.84</td>\n",
       "      <td>8940.04</td>\n",
       "      <td>324.80</td>\n",
       "      <td>0.0</td>\n",
       "      <td>organic</td>\n",
       "      <td>2018</td>\n",
       "      <td>WestTexNewMexico</td>\n",
       "    </tr>\n",
       "    <tr>\n",
       "      <th>9</th>\n",
       "      <td>2018-01-21</td>\n",
       "      <td>1.87</td>\n",
       "      <td>13766.76</td>\n",
       "      <td>1191.92</td>\n",
       "      <td>2452.79</td>\n",
       "      <td>727.94</td>\n",
       "      <td>9394.11</td>\n",
       "      <td>9351.80</td>\n",
       "      <td>42.31</td>\n",
       "      <td>0.0</td>\n",
       "      <td>organic</td>\n",
       "      <td>2018</td>\n",
       "      <td>WestTexNewMexico</td>\n",
       "    </tr>\n",
       "    <tr>\n",
       "      <th>10</th>\n",
       "      <td>2018-01-14</td>\n",
       "      <td>1.93</td>\n",
       "      <td>16205.22</td>\n",
       "      <td>1527.63</td>\n",
       "      <td>2981.04</td>\n",
       "      <td>727.01</td>\n",
       "      <td>10969.54</td>\n",
       "      <td>10919.54</td>\n",
       "      <td>50.00</td>\n",
       "      <td>0.0</td>\n",
       "      <td>organic</td>\n",
       "      <td>2018</td>\n",
       "      <td>WestTexNewMexico</td>\n",
       "    </tr>\n",
       "    <tr>\n",
       "      <th>11</th>\n",
       "      <td>2018-01-07</td>\n",
       "      <td>1.62</td>\n",
       "      <td>17489.58</td>\n",
       "      <td>2894.77</td>\n",
       "      <td>2356.13</td>\n",
       "      <td>224.53</td>\n",
       "      <td>12014.15</td>\n",
       "      <td>11988.14</td>\n",
       "      <td>26.01</td>\n",
       "      <td>0.0</td>\n",
       "      <td>organic</td>\n",
       "      <td>2018</td>\n",
       "      <td>WestTexNewMexico</td>\n",
       "    </tr>\n",
       "  </tbody>\n",
       "</table>\n",
       "<p>18249 rows × 13 columns</p>\n",
       "</div>"
      ],
      "text/plain": [
       "              Date  AveragePrice  Total Volume     4046       4225    4770  \\\n",
       "number                                                                       \n",
       "0       2015-12-27          1.33      64236.62  1036.74   54454.85   48.16   \n",
       "1       2015-12-20          1.35      54876.98   674.28   44638.81   58.33   \n",
       "2       2015-12-13          0.93     118220.22   794.70  109149.67  130.50   \n",
       "3       2015-12-06          1.08      78992.15  1132.00   71976.41   72.58   \n",
       "4       2015-11-29          1.28      51039.60   941.48   43838.39   75.78   \n",
       "...            ...           ...           ...      ...        ...     ...   \n",
       "7       2018-02-04          1.63      17074.83  2046.96    1529.20    0.00   \n",
       "8       2018-01-28          1.71      13888.04  1191.70    3431.50    0.00   \n",
       "9       2018-01-21          1.87      13766.76  1191.92    2452.79  727.94   \n",
       "10      2018-01-14          1.93      16205.22  1527.63    2981.04  727.01   \n",
       "11      2018-01-07          1.62      17489.58  2894.77    2356.13  224.53   \n",
       "\n",
       "        Total Bags  Small Bags  Large Bags  XLarge Bags          type  year  \\\n",
       "number                                                                        \n",
       "0          8696.87     8603.62       93.25          0.0  conventional  2015   \n",
       "1          9505.56     9408.07       97.49          0.0  conventional  2015   \n",
       "2          8145.35     8042.21      103.14          0.0  conventional  2015   \n",
       "3          5811.16     5677.40      133.76          0.0  conventional  2015   \n",
       "4          6183.95     5986.26      197.69          0.0  conventional  2015   \n",
       "...            ...         ...         ...          ...           ...   ...   \n",
       "7         13498.67    13066.82      431.85          0.0       organic  2018   \n",
       "8          9264.84     8940.04      324.80          0.0       organic  2018   \n",
       "9          9394.11     9351.80       42.31          0.0       organic  2018   \n",
       "10        10969.54    10919.54       50.00          0.0       organic  2018   \n",
       "11        12014.15    11988.14       26.01          0.0       organic  2018   \n",
       "\n",
       "                  region  \n",
       "number                    \n",
       "0                 Albany  \n",
       "1                 Albany  \n",
       "2                 Albany  \n",
       "3                 Albany  \n",
       "4                 Albany  \n",
       "...                  ...  \n",
       "7       WestTexNewMexico  \n",
       "8       WestTexNewMexico  \n",
       "9       WestTexNewMexico  \n",
       "10      WestTexNewMexico  \n",
       "11      WestTexNewMexico  \n",
       "\n",
       "[18249 rows x 13 columns]"
      ]
     },
     "execution_count": 4,
     "metadata": {},
     "output_type": "execute_result"
    }
   ],
   "source": [
    "df\n"
   ]
  },
  {
   "cell_type": "code",
   "execution_count": 5,
   "metadata": {},
   "outputs": [
    {
     "data": {
      "text/plain": [
       "array(['Albany', 'Atlanta', 'BaltimoreWashington', 'Boise', 'Boston',\n",
       "       'BuffaloRochester', 'California', 'Charlotte', 'Chicago',\n",
       "       'CincinnatiDayton', 'Columbus', 'DallasFtWorth', 'Denver',\n",
       "       'Detroit', 'GrandRapids', 'GreatLakes', 'HarrisburgScranton',\n",
       "       'HartfordSpringfield', 'Houston', 'Indianapolis', 'Jacksonville',\n",
       "       'LasVegas', 'LosAngeles', 'Louisville', 'MiamiFtLauderdale',\n",
       "       'Midsouth', 'Nashville', 'NewOrleansMobile', 'NewYork',\n",
       "       'Northeast', 'NorthernNewEngland', 'Orlando', 'Philadelphia',\n",
       "       'PhoenixTucson', 'Pittsburgh', 'Plains', 'Portland',\n",
       "       'RaleighGreensboro', 'RichmondNorfolk', 'Roanoke', 'Sacramento',\n",
       "       'SanDiego', 'SanFrancisco', 'Seattle', 'SouthCarolina',\n",
       "       'SouthCentral', 'Southeast', 'Spokane', 'StLouis', 'Syracuse',\n",
       "       'Tampa', 'TotalUS', 'West', 'WestTexNewMexico'], dtype=object)"
      ]
     },
     "execution_count": 5,
     "metadata": {},
     "output_type": "execute_result"
    }
   ],
   "source": [
    "pd.unique(df['region'])"
   ]
  },
  {
   "cell_type": "code",
   "execution_count": 6,
   "metadata": {},
   "outputs": [],
   "source": [
    "cities = ['Albany', 'Atlanta', 'BaltimoreWashington', 'Boise', 'Boston',\n",
    "       'BuffaloRochester', 'California', 'Charlotte', 'Chicago',\n",
    "       'CincinnatiDayton', 'Columbus', 'DallasFtWorth', 'Denver',\n",
    "       'Detroit', 'GrandRapids', 'GreatLakes', 'HarrisburgScranton',\n",
    "       'HartfordSpringfield', 'Houston', 'Indianapolis', 'Jacksonville']"
   ]
  },
  {
   "cell_type": "code",
   "execution_count": 7,
   "metadata": {},
   "outputs": [],
   "source": [
    "Part = df.loc[df['region'].isin(cities)]"
   ]
  },
  {
   "cell_type": "code",
   "execution_count": 8,
   "metadata": {},
   "outputs": [
    {
     "data": {
      "text/plain": [
       "(array([  3.,   9.,  18.,  51.,  95., 177., 164., 266., 393., 398., 510.,\n",
       "        432., 400., 404., 373., 363., 465., 342., 420., 286., 226., 329.,\n",
       "        199., 152., 166., 108.,  87.,  67.,  42.,  53.,  26.,  14.,  15.,\n",
       "         18.,  14.,   3.,   5.,   4.,   0.,   1.]),\n",
       " array([0.44   , 0.50375, 0.5675 , 0.63125, 0.695  , 0.75875, 0.8225 ,\n",
       "        0.88625, 0.95   , 1.01375, 1.0775 , 1.14125, 1.205  , 1.26875,\n",
       "        1.3325 , 1.39625, 1.46   , 1.52375, 1.5875 , 1.65125, 1.715  ,\n",
       "        1.77875, 1.8425 , 1.90625, 1.97   , 2.03375, 2.0975 , 2.16125,\n",
       "        2.225  , 2.28875, 2.3525 , 2.41625, 2.48   , 2.54375, 2.6075 ,\n",
       "        2.67125, 2.735  , 2.79875, 2.8625 , 2.92625, 2.99   ]),\n",
       " <BarContainer object of 40 artists>)"
      ]
     },
     "execution_count": 8,
     "metadata": {},
     "output_type": "execute_result"
    },
    {
     "data": {
      "image/png": "[encoded data removed]",
      "text/plain": [
       "<Figure size 432x288 with 1 Axes>"
      ]
     },
     "metadata": {
      "needs_background": "light"
     },
     "output_type": "display_data"
    }
   ],
   "source": [
    "plt.hist(Part['AveragePrice'], bins=40)"
   ]
  },
  {
   "cell_type": "code",
   "execution_count": 9,
   "metadata": {},
   "outputs": [
    {
     "name": "stdout",
     "output_type": "stream",
     "text": [
      "p-value:  4.202035841640362e-28\n"
     ]
    },
    {
     "name": "stderr",
     "output_type": "stream",
     "text": [
      "/home/stepan/anaconda3/lib/python3.8/site-packages/scipy/stats/morestats.py:1681: UserWarning: p-value may not be accurate for N > 5000.\n",
      "  warnings.warn(\"p-value may not be accurate for N > 5000.\")\n"
     ]
    }
   ],
   "source": [
    "res = stats.shapiro(Part['AveragePrice'])\n",
    "print('p-value: ', res[1])"
   ]
  },
  {
   "cell_type": "markdown",
   "metadata": {},
   "source": [
    "p-value получился маленьким (меньше  𝛼=0.01,0.05 )"
   ]
  },
  {
   "cell_type": "code",
   "execution_count": 10,
   "metadata": {},
   "outputs": [
    {
     "data": {
      "text/plain": [
       "(array([  1.,   0.,   2.,   2.,   3.,   1.,   3.,   7.,   3.,   3.,  10.,\n",
       "         11.,  14.,  21.,  29.,  32.,  23.,  32.,  54.,  52.,  50.,  56.,\n",
       "         28.,  51.,  64.,  88., 103.,  91.,  49., 103., 131., 111., 138.,\n",
       "         73., 135., 142., 151., 147., 160.,  59., 139., 144., 113., 118.,\n",
       "         76., 163., 114., 110., 110., 121.,  79., 116., 116., 113., 137.,\n",
       "        118.,  73., 154., 124., 107., 119.,  63., 103., 142., 115., 112.,\n",
       "        107.,  51., 106.,  73.,  87.,  73.,  39.,  67.,  98., 102.,  89.,\n",
       "         73.,  35.,  60.,  58.,  59.,  48.,  44.,  26.,  47.,  50.,  32.,\n",
       "         41.,  17.,  35.,  26.,  22.,  27.,  25.,  17.,  21.,  16.,  17.,\n",
       "         12.,   7.,  10.,  20.,  15.,  14.,  12.,   3.,   8.,   7.,   6.,\n",
       "          3.,   5.,   2.,   4.,   1.,   8.,   6.,   4.,   4.,   6.,   2.,\n",
       "          1.,   6.,   0.,   1.,   1.,   2.,   1.,   1.,   2.,   2.,   1.,\n",
       "          0.,   0.,   0.,   0.,   0.,   0.,   0.,   1.]),\n",
       " array([0.44      , 0.45821429, 0.47642857, 0.49464286, 0.51285714,\n",
       "        0.53107143, 0.54928571, 0.5675    , 0.58571429, 0.60392857,\n",
       "        0.62214286, 0.64035714, 0.65857143, 0.67678571, 0.695     ,\n",
       "        0.71321429, 0.73142857, 0.74964286, 0.76785714, 0.78607143,\n",
       "        0.80428571, 0.8225    , 0.84071429, 0.85892857, 0.87714286,\n",
       "        0.89535714, 0.91357143, 0.93178571, 0.95      , 0.96821429,\n",
       "        0.98642857, 1.00464286, 1.02285714, 1.04107143, 1.05928571,\n",
       "        1.0775    , 1.09571429, 1.11392857, 1.13214286, 1.15035714,\n",
       "        1.16857143, 1.18678571, 1.205     , 1.22321429, 1.24142857,\n",
       "        1.25964286, 1.27785714, 1.29607143, 1.31428571, 1.3325    ,\n",
       "        1.35071429, 1.36892857, 1.38714286, 1.40535714, 1.42357143,\n",
       "        1.44178571, 1.46      , 1.47821429, 1.49642857, 1.51464286,\n",
       "        1.53285714, 1.55107143, 1.56928571, 1.5875    , 1.60571429,\n",
       "        1.62392857, 1.64214286, 1.66035714, 1.67857143, 1.69678571,\n",
       "        1.715     , 1.73321429, 1.75142857, 1.76964286, 1.78785714,\n",
       "        1.80607143, 1.82428571, 1.8425    , 1.86071429, 1.87892857,\n",
       "        1.89714286, 1.91535714, 1.93357143, 1.95178571, 1.97      ,\n",
       "        1.98821429, 2.00642857, 2.02464286, 2.04285714, 2.06107143,\n",
       "        2.07928571, 2.0975    , 2.11571429, 2.13392857, 2.15214286,\n",
       "        2.17035714, 2.18857143, 2.20678571, 2.225     , 2.24321429,\n",
       "        2.26142857, 2.27964286, 2.29785714, 2.31607143, 2.33428571,\n",
       "        2.3525    , 2.37071429, 2.38892857, 2.40714286, 2.42535714,\n",
       "        2.44357143, 2.46178571, 2.48      , 2.49821429, 2.51642857,\n",
       "        2.53464286, 2.55285714, 2.57107143, 2.58928571, 2.6075    ,\n",
       "        2.62571429, 2.64392857, 2.66214286, 2.68035714, 2.69857143,\n",
       "        2.71678571, 2.735     , 2.75321429, 2.77142857, 2.78964286,\n",
       "        2.80785714, 2.82607143, 2.84428571, 2.8625    , 2.88071429,\n",
       "        2.89892857, 2.91714286, 2.93535714, 2.95357143, 2.97178571,\n",
       "        2.99      ]),\n",
       " <BarContainer object of 140 artists>)"
      ]
     },
     "execution_count": 10,
     "metadata": {},
     "output_type": "execute_result"
    },
    {
     "data": {
      "image/png": "[encoded data removed]",
      "text/plain": [
       "<Figure size 432x288 with 1 Axes>"
      ]
     },
     "metadata": {
      "needs_background": "light"
     },
     "output_type": "display_data"
    }
   ],
   "source": [
    "plt.hist(Part['AveragePrice'], bins=140)"
   ]
  },
  {
   "cell_type": "code",
   "execution_count": 22,
   "metadata": {},
   "outputs": [],
   "source": [
    "x = Part[Part['type'] == 'conventional']['AveragePrice']\n",
    "y = Part[Part['type'] == 'organic']['AveragePrice']\n",
    "x.name, y.name = 'corner', 'not corner'"
   ]
  },
  {
   "cell_type": "code",
   "execution_count": 24,
   "metadata": {},
   "outputs": [],
   "source": [
    "def two_histograms(x, y):\n",
    "# После определения функции полезно бывает добавить её описание в таком стиле.\n",
    "# Тройные кавычки -- для обрамления многострочных строковых литералов.\n",
    "    \"\"\"\n",
    "    Функция, которая построит две гистограммы на одной картинке.\n",
    "    Дополнительно пунктирными линиями указываются средние значения выборок.\n",
    "    x: вектор pd.Series,\n",
    "    y: вектор pd.Series\n",
    "    \"\"\"\n",
    "    x.hist(alpha=0.5, weights=[1./len(x)]*len(x))\n",
    "    y.hist(alpha=0.5, weights=[1./len(y)]*len(y))\n",
    "    plt.axvline(x.mean(), color='red', alpha=0.8, linestyle='dashed')\n",
    "    plt.axvline(y.mean(), color='blue', alpha=0.8, linestyle='dashed')\n",
    "    plt.legend([x.name, y.name])"
   ]
  },
  {
   "cell_type": "code",
   "execution_count": 28,
   "metadata": {},
   "outputs": [
    {
     "data": {
      "image/png": "[encoded data removed]",
      "text/plain": [
       "<Figure size 432x288 with 1 Axes>"
      ]
     },
     "metadata": {
      "needs_background": "light"
     },
     "output_type": "display_data"
    }
   ],
   "source": [
    "two_histograms(x, y)"
   ]
  },
  {
   "cell_type": "code",
   "execution_count": 29,
   "metadata": {},
   "outputs": [
    {
     "name": "stdout",
     "output_type": "stream",
     "text": [
      "p-value: 0.0\n"
     ]
    }
   ],
   "source": [
    "res = stats.mannwhitneyu(x, y)\n",
    "print('p-value:', res[1])"
   ]
  },
  {
   "cell_type": "code",
   "execution_count": 30,
   "metadata": {},
   "outputs": [
    {
     "name": "stdout",
     "output_type": "stream",
     "text": [
      "p-value:  0.0\n"
     ]
    }
   ],
   "source": [
    "res = stats.ttest_rel(x, y)\n",
    "print('p-value: ', res[1])"
   ]
  },
  {
   "cell_type": "code",
   "execution_count": 32,
   "metadata": {},
   "outputs": [
    {
     "name": "stdout",
     "output_type": "stream",
     "text": [
      "p-value:  0.0\n"
     ]
    }
   ],
   "source": [
    "res = stats.ttest_ind(x, y, equal_var=False)\n",
    "print('p-value: ', res[1])"
   ]
  }
 ],
 "metadata": {
  "kernelspec": {
   "display_name": "Python 3",
   "language": "python",
   "name": "python3"
  },
  "language_info": {
   "codemirror_mode": {
    "name": "ipython",
    "version": 3
   },
   "file_extension": ".py",
   "mimetype": "text/x-python",
   "name": "python",
   "nbconvert_exporter": "python",
   "pygments_lexer": "ipython3",
   "version": "3.8.5"
  },
  "toc": {
   "base_numbering": 1,
   "nav_menu": {},
   "number_sections": true,
   "sideBar": true,
   "skip_h1_title": false,
   "title_cell": "Table of Contents",
   "title_sidebar": "Contents",
   "toc_cell": false,
   "toc_position": {},
   "toc_section_display": true,
   "toc_window_display": false
  }
 },
 "nbformat": 4,
 "nbformat_minor": 4
}
