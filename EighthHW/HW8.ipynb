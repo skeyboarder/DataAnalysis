{
 "cells": [
  {
   "cell_type": "code",
   "execution_count": 1,
   "metadata": {},
   "outputs": [],
   "source": [
    "import os\n",
    "import pandas as pd\n",
    "import numpy as np\n",
    "import matplotlib\n",
    "import matplotlib.pyplot as plt\n",
    "matplotlib.style.use('ggplot')\n",
    "%matplotlib inline\n"
   ]
  },
  {
   "cell_type": "code",
   "execution_count": 2,
   "metadata": {},
   "outputs": [
    {
     "data": {
      "text/html": [
       "<div>\n",
       "<style scoped>\n",
       "    .dataframe tbody tr th:only-of-type {\n",
       "        vertical-align: middle;\n",
       "    }\n",
       "\n",
       "    .dataframe tbody tr th {\n",
       "        vertical-align: top;\n",
       "    }\n",
       "\n",
       "    .dataframe thead th {\n",
       "        text-align: right;\n",
       "    }\n",
       "</style>\n",
       "<table border=\"1\" class=\"dataframe\">\n",
       "  <thead>\n",
       "    <tr style=\"text-align: right;\">\n",
       "      <th></th>\n",
       "      <th>Id</th>\n",
       "      <th>SQUARE_METERS</th>\n",
       "      <th>METRO_DISTANCE</th>\n",
       "      <th>PRICE</th>\n",
       "    </tr>\n",
       "  </thead>\n",
       "  <tbody>\n",
       "    <tr>\n",
       "      <th>0</th>\n",
       "      <td>601</td>\n",
       "      <td>28</td>\n",
       "      <td>677</td>\n",
       "      <td>7328400</td>\n",
       "    </tr>\n",
       "    <tr>\n",
       "      <th>1</th>\n",
       "      <td>602</td>\n",
       "      <td>54</td>\n",
       "      <td>120</td>\n",
       "      <td>9754600</td>\n",
       "    </tr>\n",
       "    <tr>\n",
       "      <th>2</th>\n",
       "      <td>603</td>\n",
       "      <td>43</td>\n",
       "      <td>1344</td>\n",
       "      <td>6781500</td>\n",
       "    </tr>\n",
       "    <tr>\n",
       "      <th>3</th>\n",
       "      <td>604</td>\n",
       "      <td>33</td>\n",
       "      <td>1003</td>\n",
       "      <td>6784100</td>\n",
       "    </tr>\n",
       "    <tr>\n",
       "      <th>4</th>\n",
       "      <td>605</td>\n",
       "      <td>30</td>\n",
       "      <td>591</td>\n",
       "      <td>7296200</td>\n",
       "    </tr>\n",
       "  </tbody>\n",
       "</table>\n",
       "</div>"
      ],
      "text/plain": [
       "    Id  SQUARE_METERS  METRO_DISTANCE    PRICE\n",
       "0  601             28             677  7328400\n",
       "1  602             54             120  9754600\n",
       "2  603             43            1344  6781500\n",
       "3  604             33            1003  6784100\n",
       "4  605             30             591  7296200"
      ]
     },
     "execution_count": 2,
     "metadata": {},
     "output_type": "execute_result"
    }
   ],
   "source": [
    "df = pd.read_csv('FLATS.csv', sep=\",\", header = 0, index_col=False)\n",
    "df.head()"
   ]
  },
  {
   "cell_type": "code",
   "execution_count": 3,
   "metadata": {},
   "outputs": [],
   "source": [
    "from sklearn.linear_model import LinearRegression"
   ]
  },
  {
   "cell_type": "code",
   "execution_count": 4,
   "metadata": {},
   "outputs": [],
   "source": [
    "X = df[['SQUARE_METERS']]\n",
    "y = df['PRICE']"
   ]
  },
  {
   "cell_type": "code",
   "execution_count": 5,
   "metadata": {},
   "outputs": [],
   "source": [
    "from sklearn.metrics import mean_absolute_error, mean_squared_error\n",
    "def mean_percentage_error(y_true, y_pred): \n",
    "    y_true, y_pred = np.array(y_true), np.array(y_pred)\n",
    "    return np.mean(((y_true - y_pred) / y_true)) * 100\n",
    "def mean_absolute_percentage_error(y_true, y_pred): \n",
    "    y_true, y_pred = np.array(y_true), np.array(y_pred)\n",
    "    return np.mean(np.abs((y_true - y_pred) / y_true)) * 100\n",
    "def absolute_deviation(y_true, y_pred): \n",
    "    y_true, y_pred = np.array(y_true), np.array(y_pred)\n",
    "    return (np.abs(y_true - y_pred)).sum()\n",
    "def mean_absolute_deviation(y_true, y_pred): \n",
    "    y_true, y_pred = np.array(y_true), np.array(y_pred)\n",
    "    return np.mean(np.abs(y_true - y_pred))\n",
    "def tail_mismatch_coefficient(y_true, y_pred): \n",
    "    y_true, y_pred = np.array(y_true), np.array(y_pred)\n",
    "    return np.sqrt((np.square(y_true - y_pred)).sum() / ((np.square(y_true)).sum() + (np.square(y_pred)).sum()))"
   ]
  },
  {
   "cell_type": "code",
   "execution_count": 6,
   "metadata": {},
   "outputs": [
    {
     "data": {
      "text/plain": [
       "LinearRegression()"
      ]
     },
     "execution_count": 6,
     "metadata": {},
     "output_type": "execute_result"
    }
   ],
   "source": [
    "model = LinearRegression()\n",
    "model.fit(X, y)"
   ]
  },
  {
   "cell_type": "code",
   "execution_count": 7,
   "metadata": {},
   "outputs": [],
   "source": [
    "# print ('R^2: {0}'.format(model.score(X, y)))"
   ]
  },
  {
   "cell_type": "code",
   "execution_count": 8,
   "metadata": {},
   "outputs": [
    {
     "name": "stdout",
     "output_type": "stream",
     "text": [
      "alpha = 4292935.814524662\n",
      "betas = [62148.72930472]\n"
     ]
    }
   ],
   "source": [
    "print(f'alpha = {model.intercept_}')\n",
    "print(f'betas = {model.coef_}')"
   ]
  },
  {
   "cell_type": "code",
   "execution_count": 9,
   "metadata": {
    "scrolled": true
   },
   "outputs": [
    {
     "data": {
      "image/png": "[encoded data removed]",
      "text/plain": [
       "<Figure size 864x432 with 1 Axes>"
      ]
     },
     "metadata": {
      "needs_background": "light"
     },
     "output_type": "display_data"
    }
   ],
   "source": [
    "sales_pred = model.predict(X)\n",
    "plt.figure(figsize=(12, 6))\n",
    "plt.plot(df['SQUARE_METERS'], df['PRICE'], 'o')\n",
    "plt.plot(df['SQUARE_METERS'], model.predict(X), 'b', linewidth=2)\n",
    "plt.xlabel('Square')\n",
    "plt.ylabel('Price')\n",
    "plt.title('Square vs Price')\n",
    "plt.show()"
   ]
  },
  {
   "cell_type": "code",
   "execution_count": 10,
   "metadata": {},
   "outputs": [
    {
     "name": "stdout",
     "output_type": "stream",
     "text": [
      "MAE (средняя абсолютная ошибка прогноза) = 990261.942495025\n",
      "RMSE (среднеквадратическое отклонение) = 1141985.1272904896\n",
      "MSE (среднеквадратическое отклонение) = 1304130030952.676\n",
      "MPE (средний процент ошибки) = -3.301140379120921\n",
      "MAPE (средняя относительная ошибка) = 15.69379263454044\n",
      "AD (абсолютное отклонение от среднего) = 99026194.2495025\n",
      "MAD (среднее абсолютное отклонение) = 990261.942495025\n",
      "R^2: 0.45222058564965084\n",
      "Коэффициент несоответствия Тейла  = 0.11574465364713009\n"
     ]
    }
   ],
   "source": [
    "print(\"MAE (средняя абсолютная ошибка прогноза) =\", mean_absolute_error(df['PRICE'], model.predict(X)))\n",
    "print(\"RMSE (среднеквадратическое отклонение) =\", mean_squared_error(df['PRICE'], model.predict(X), squared=False))\n",
    "print(\"MSE (среднеквадратическое отклонение) =\", mean_squared_error(df['PRICE'], model.predict(X), squared=True))\n",
    "print(\"MPE (средний процент ошибки) =\", mean_percentage_error(df['PRICE'], model.predict(X)))\n",
    "print(\"MAPE (средняя относительная ошибка) =\", mean_absolute_percentage_error(df['PRICE'], model.predict(X)))\n",
    "print(\"AD (абсолютное отклонение от среднего) =\", absolute_deviation(df['PRICE'], model.predict(X)))\n",
    "print(\"MAD (среднее абсолютное отклонение) =\", mean_absolute_deviation(df['PRICE'], model.predict(X)))\n",
    "print ('R^2: {0}'.format(model.score(X, y)))\n",
    "print(\"Коэффициент несоответствия Тейла  =\", tail_mismatch_coefficient(df['PRICE'], model.predict(X)))"
   ]
  },
  {
   "cell_type": "code",
   "execution_count": 15,
   "metadata": {},
   "outputs": [
    {
     "name": "stdout",
     "output_type": "stream",
     "text": [
      "R^2: 0.5775983380546676\n",
      "alpha = 9003176.445034346\n",
      "betas = [-1679.03096909]\n"
     ]
    },
    {
     "data": {
      "image/png": "[encoded data removed]",
      "text/plain": [
       "<Figure size 864x432 with 1 Axes>"
      ]
     },
     "metadata": {
      "needs_background": "light"
     },
     "output_type": "display_data"
    }
   ],
   "source": [
    "X = df[['METRO_DISTANCE']]\n",
    "y = df['PRICE']\n",
    "model = LinearRegression()\n",
    "model.fit(X, y)\n",
    "print ('R^2: {0}'.format(model.score(X, y)))\n",
    "print(f'alpha = {model.intercept_}')\n",
    "print(f'betas = {model.coef_}')\n",
    "plt.figure(figsize=(12, 6))\n",
    "plt.plot(df['METRO_DISTANCE'], df['PRICE'], 'o')\n",
    "plt.plot(df['METRO_DISTANCE'], model.predict(X), 'b', linewidth=2)\n",
    "plt.xlabel('Metro distance')\n",
    "plt.ylabel('Price')\n",
    "plt.title('Metro distance vs Price')\n",
    "plt.show()"
   ]
  },
  {
   "cell_type": "code",
   "execution_count": 12,
   "metadata": {},
   "outputs": [
    {
     "name": "stdout",
     "output_type": "stream",
     "text": [
      "MAE (средняя абсолютная ошибка прогноза) = 870605.1584099769\n",
      "RMSE (среднеквадратическое отклонение) = 1002814.0345235703\n",
      "MSE (среднеквадратическое отклонение) = 1005635987837.4404\n",
      "MPE (средний процент ошибки) = -2.569573659947029\n",
      "MAPE (средняя относительная ошибка) = 13.78038995526844\n",
      "AD (абсолютное отклонение от среднего) = 87060515.84099768\n",
      "MAD (среднее абсолютное отклонение) = 870605.1584099769\n",
      "R^2: 0.5775983380546676\n",
      "Коэффициент несоответствия Тейла  = 0.10148364845817766\n"
     ]
    }
   ],
   "source": [
    "print(\"MAE (средняя абсолютная ошибка прогноза) =\", mean_absolute_error(df['PRICE'], model.predict(X)))\n",
    "print(\"RMSE (среднеквадратическое отклонение) =\", mean_squared_error(df['PRICE'], model.predict(X), squared=False))\n",
    "print(\"MSE (среднеквадратическое отклонение) =\", mean_squared_error(df['PRICE'], model.predict(X), squared=True))\n",
    "print(\"MPE (средний процент ошибки) =\", mean_percentage_error(df['PRICE'], model.predict(X)))\n",
    "print(\"MAPE (средняя относительная ошибка) =\", mean_absolute_percentage_error(df['PRICE'], model.predict(X)))\n",
    "print(\"AD (абсолютное отклонение от среднего) =\", absolute_deviation(df['PRICE'], model.predict(X)))\n",
    "print(\"MAD (среднее абсолютное отклонение) =\", mean_absolute_deviation(df['PRICE'], model.predict(X)))\n",
    "print ('R^2: {0}'.format(model.score(X, y)))\n",
    "print(\"Коэффициент несоответствия Тейла  =\", tail_mismatch_coefficient(df['PRICE'], model.predict(X)))"
   ]
  },
  {
   "cell_type": "code",
   "execution_count": 16,
   "metadata": {},
   "outputs": [
    {
     "name": "stdout",
     "output_type": "stream",
     "text": [
      "R^2: 0.9774581227423352\n",
      "alpha = 6496840.106599597\n",
      "betas = [-1603.45994797 58525.54309272]\n"
     ]
    }
   ],
   "source": [
    "X = df[['METRO_DISTANCE', 'SQUARE_METERS']]\n",
    "y = df['PRICE']\n",
    "model = LinearRegression()\n",
    "model.fit(X, y)\n",
    "print ('R^2: {0}'.format(model.score(X, y)))\n",
    "print(f'alpha = {model.intercept_}')\n",
    "print(f'betas = {model.coef_}')"
   ]
  },
  {
   "cell_type": "code",
   "execution_count": 14,
   "metadata": {},
   "outputs": [
    {
     "name": "stdout",
     "output_type": "stream",
     "text": [
      "MAE (средняя абсолютная ошибка прогноза) = 188069.8356556662\n",
      "RMSE (среднеквадратическое отклонение) = 231660.84415639355\n",
      "MSE (среднеквадратическое отклонение) = 53666746715.25286\n",
      "MPE (средний процент ошибки) = -0.13061066905935353\n",
      "MAPE (средняя относительная ошибка) = 2.8459159522276787\n",
      "AD (абсолютное отклонение от среднего) = 18806983.565566618\n",
      "MAD (среднее абсолютное отклонение) = 188069.8356556662\n",
      "R^2: 0.9774581227423352\n",
      "Коэффициент несоответствия Тейла  = 0.023330364236321885\n"
     ]
    }
   ],
   "source": [
    "print(\"MAE (средняя абсолютная ошибка прогноза) =\", mean_absolute_error(df['PRICE'], model.predict(X)))\n",
    "print(\"RMSE (среднеквадратическое отклонение) =\", mean_squared_error(df['PRICE'], model.predict(X), squared=False))\n",
    "print(\"MSE (среднеквадратическое отклонение) =\", mean_squared_error(df['PRICE'], model.predict(X), squared=True))\n",
    "print(\"MPE (средний процент ошибки) =\", mean_percentage_error(df['PRICE'], model.predict(X)))\n",
    "print(\"MAPE (средняя относительная ошибка) =\", mean_absolute_percentage_error(df['PRICE'], model.predict(X)))\n",
    "print(\"AD (абсолютное отклонение от среднего) =\", absolute_deviation(df['PRICE'], model.predict(X)))\n",
    "print(\"MAD (среднее абсолютное отклонение) =\", mean_absolute_deviation(df['PRICE'], model.predict(X)))\n",
    "print ('R^2: {0}'.format(model.score(X, y)))\n",
    "print(\"Коэффициент несоответствия Тейла  =\", tail_mismatch_coefficient(df['PRICE'], model.predict(X)))"
   ]
  }
 ],
 "metadata": {
  "kernelspec": {
   "display_name": "Python 3",
   "language": "python",
   "name": "python3"
  },
  "language_info": {
   "codemirror_mode": {
    "name": "ipython",
    "version": 3
   },
   "file_extension": ".py",
   "mimetype": "text/x-python",
   "name": "python",
   "nbconvert_exporter": "python",
   "pygments_lexer": "ipython3",
   "version": "3.8.5"
  },
  "toc": {
   "base_numbering": 1,
   "nav_menu": {},
   "number_sections": true,
   "sideBar": true,
   "skip_h1_title": false,
   "title_cell": "Table of Contents",
   "title_sidebar": "Contents",
   "toc_cell": false,
   "toc_position": {},
   "toc_section_display": true,
   "toc_window_display": false
  }
 },
 "nbformat": 4,
 "nbformat_minor": 4
}
